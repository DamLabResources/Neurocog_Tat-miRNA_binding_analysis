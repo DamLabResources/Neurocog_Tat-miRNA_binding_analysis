{
 "cells": [
  {
   "cell_type": "code",
   "execution_count": 2,
   "metadata": {},
   "outputs": [],
   "source": [
    "import sys\n",
    "sys.path.append(\"../../Chapter_3\")\n",
    "\n",
    "import pandas as pd\n",
    "from transformers import AutoTokenizer, AutoModel\n",
    "\n",
    "import torch\n",
    "from torch.utils.data import WeightedRandomSampler\n",
    "\n",
    "from tqdm.notebook import tqdm\n",
    "\n",
    "from sklearn.preprocessing import KBinsDiscretizer\n",
    "from sklearn.model_selection import train_test_split\n",
    "\n",
    "import fastai\n",
    "from fastai.basics import Learner, DataLoaders\n",
    "from fastai.vision.all import *\n",
    "from fastai.callback.all import *\n",
    "\n",
    "import seaborn as sbn\n",
    "import matplotlib.pyplot as plt\n",
    "import numpy as np\n",
    "\n",
    "from Utils.negative_sampling import IterableProteinEmbedding, magnitude\n",
    "from Utils.misc import filter_sequences_by_len_from_fasta\n",
    "from Utils.encoders import SkipGramEmbedder\n",
    "\n",
    "import warnings\n",
    "warnings.filterwarnings('ignore')"
   ]
  },
  {
   "cell_type": "markdown",
   "metadata": {},
   "source": [
    "# Complete RNAInter training data"
   ]
  },
  {
   "cell_type": "code",
   "execution_count": 3,
   "metadata": {},
   "outputs": [
    {
     "data": {
      "text/html": [
       "<div>\n",
       "<style scoped>\n",
       "    .dataframe tbody tr th:only-of-type {\n",
       "        vertical-align: middle;\n",
       "    }\n",
       "\n",
       "    .dataframe tbody tr th {\n",
       "        vertical-align: top;\n",
       "    }\n",
       "\n",
       "    .dataframe thead th {\n",
       "        text-align: right;\n",
       "    }\n",
       "</style>\n",
       "<table border=\"1\" class=\"dataframe\">\n",
       "  <thead>\n",
       "    <tr style=\"text-align: right;\">\n",
       "      <th></th>\n",
       "      <th>Unnamed: 0</th>\n",
       "      <th>Interaction_ID</th>\n",
       "      <th>RNA_Name</th>\n",
       "      <th>HGNC/Entrex/Ensembl_ID</th>\n",
       "      <th>RNA_type</th>\n",
       "      <th>Species</th>\n",
       "      <th>Protein_name</th>\n",
       "      <th>NCBI_GeneID</th>\n",
       "      <th>Protein_Type</th>\n",
       "      <th>Also_species</th>\n",
       "      <th>Confidence_score</th>\n",
       "      <th>proteins</th>\n",
       "      <th>UniprotID</th>\n",
       "      <th>rnas</th>\n",
       "    </tr>\n",
       "  </thead>\n",
       "  <tbody>\n",
       "    <tr>\n",
       "      <th>0</th>\n",
       "      <td>907814</td>\n",
       "      <td>RP00953369</td>\n",
       "      <td>RP11-125K10.5</td>\n",
       "      <td>ENSG00000228165</td>\n",
       "      <td>lncRNA</td>\n",
       "      <td>Homo sapiens</td>\n",
       "      <td>HMGN3</td>\n",
       "      <td>9324.0</td>\n",
       "      <td>TF</td>\n",
       "      <td>Homo sapiens</td>\n",
       "      <td>0.5117</td>\n",
       "      <td>MPKRKSPENTEGKDGSKVTKQEPTRRSARLSAKPAPPKPEPKPRKTSAKKEPGAKISRGAKGKKEEKQEAGKEGTAPSENGETKAEEAQKTESVDNEGE</td>\n",
       "      <td>Q15651</td>\n",
       "      <td>CACCATTCTTCAGTTATCACAGTACTGTACCTTTCAGATATACAGCATCGGTACCATGATAACCGAAAAAGGACA</td>\n",
       "    </tr>\n",
       "    <tr>\n",
       "      <th>1</th>\n",
       "      <td>911713</td>\n",
       "      <td>RP00957415</td>\n",
       "      <td>MIR3184</td>\n",
       "      <td>ENSG00000266919</td>\n",
       "      <td>lncRNA</td>\n",
       "      <td>Homo sapiens</td>\n",
       "      <td>HMGN3</td>\n",
       "      <td>9324.0</td>\n",
       "      <td>TF</td>\n",
       "      <td>Homo sapiens</td>\n",
       "      <td>0.5117</td>\n",
       "      <td>MPKRKSPENTEGKDGSKVTKQEPTRRSARLSAKPAPPKPEPKPRKTSAKKEPGAKISRGAKGKKEEKQEAGKEGTAPSENGETKAEEAQKTESVDNEGE</td>\n",
       "      <td>Q15651</td>\n",
       "      <td>GCGCGGGTTAGGAAGCAAGACTGAGGGGCCTCAGACCGAGCTTTTGGAAAATAGAAAAGTCTCGCTCTCTGCCCCTCAGCCTAACTTCCTTTAT</td>\n",
       "    </tr>\n",
       "    <tr>\n",
       "      <th>2</th>\n",
       "      <td>912105</td>\n",
       "      <td>RP00957817</td>\n",
       "      <td>AL365205.2</td>\n",
       "      <td>ENSG00000268745</td>\n",
       "      <td>lncRNA</td>\n",
       "      <td>Homo sapiens</td>\n",
       "      <td>HMGN3</td>\n",
       "      <td>9324.0</td>\n",
       "      <td>TF</td>\n",
       "      <td>Homo sapiens</td>\n",
       "      <td>0.5117</td>\n",
       "      <td>MPKRKSPENTEGKDGSKVTKQEPTRRSARLSAKPAPPKPEPKPRKTSAKKEPGAKISRGAKGKKEEKQEAGKEGTAPSENGETKAEEAQKTESVDNEGE</td>\n",
       "      <td>Q15651</td>\n",
       "      <td>CCAATGTTTCATTTCAACTGGCTTAAATCTTCAAAGTGGTTAAGAATTTAGTAAATAAAACTACTTAA</td>\n",
       "    </tr>\n",
       "    <tr>\n",
       "      <th>3</th>\n",
       "      <td>912866</td>\n",
       "      <td>RP00958609</td>\n",
       "      <td>RP11-717A5.2</td>\n",
       "      <td>ENSG00000273196</td>\n",
       "      <td>lncRNA</td>\n",
       "      <td>Homo sapiens</td>\n",
       "      <td>HMGN3</td>\n",
       "      <td>9324.0</td>\n",
       "      <td>TF</td>\n",
       "      <td>Homo sapiens</td>\n",
       "      <td>0.5117</td>\n",
       "      <td>MPKRKSPENTEGKDGSKVTKQEPTRRSARLSAKPAPPKPEPKPRKTSAKKEPGAKISRGAKGKKEEKQEAGKEGTAPSENGETKAEEAQKTESVDNEGE</td>\n",
       "      <td>Q15651</td>\n",
       "      <td>GATCATATATACTTGCATAATATCATCCCTTCCCTTGATTTCTTTCAATCTAAAAATAAATATGAGAAAAACA</td>\n",
       "    </tr>\n",
       "    <tr>\n",
       "      <th>4</th>\n",
       "      <td>2122927</td>\n",
       "      <td>RP02246386</td>\n",
       "      <td>RP11-717A5.2</td>\n",
       "      <td>ENSG00000273196</td>\n",
       "      <td>lncRNA</td>\n",
       "      <td>Homo sapiens</td>\n",
       "      <td>SUMO2</td>\n",
       "      <td>6613.0</td>\n",
       "      <td>TF</td>\n",
       "      <td>Homo sapiens</td>\n",
       "      <td>0.5117</td>\n",
       "      <td>MADEKPKEGVKTENNDHINLKVAGQDGSVVQFKIKRHTPLSKLMKAYCERQGLSMRQIRFRFDGQPINETDTPAQLEMEDEDTIDVFQQQTGGVY</td>\n",
       "      <td>P61956</td>\n",
       "      <td>GATCATATATACTTGCATAATATCATCCCTTCCCTTGATTTCTTTCAATCTAAAAATAAATATGAGAAAAACA</td>\n",
       "    </tr>\n",
       "    <tr>\n",
       "      <th>...</th>\n",
       "      <td>...</td>\n",
       "      <td>...</td>\n",
       "      <td>...</td>\n",
       "      <td>...</td>\n",
       "      <td>...</td>\n",
       "      <td>...</td>\n",
       "      <td>...</td>\n",
       "      <td>...</td>\n",
       "      <td>...</td>\n",
       "      <td>...</td>\n",
       "      <td>...</td>\n",
       "      <td>...</td>\n",
       "      <td>...</td>\n",
       "      <td>...</td>\n",
       "    </tr>\n",
       "    <tr>\n",
       "      <th>12142</th>\n",
       "      <td>8917917</td>\n",
       "      <td>RP33972761</td>\n",
       "      <td>mmu-mir-8105</td>\n",
       "      <td>MI0026035</td>\n",
       "      <td>miRNA</td>\n",
       "      <td>Mus musculus</td>\n",
       "      <td>Sumo2</td>\n",
       "      <td>170930.0</td>\n",
       "      <td>TF</td>\n",
       "      <td>Mus musculus</td>\n",
       "      <td>0.5117</td>\n",
       "      <td>MADEKPKEGVKTENNDHINLKVAGQDGSVVQFKIKRHTPLSKLMKAYCERQGLSMRQIRFRFDGQPINETDTPAQLEMEDEDTIDVFQQQTGGVY</td>\n",
       "      <td>P61957</td>\n",
       "      <td>UGCUUGAACCUGGGUCGAAGAAUCGGGGCUCGCCAGCCGACUCCUAAAGCGGAGGCGACUGGCGAGACCCGAAGAUCAGAGGGAGGAGA</td>\n",
       "    </tr>\n",
       "    <tr>\n",
       "      <th>12143</th>\n",
       "      <td>8923194</td>\n",
       "      <td>RP33979003</td>\n",
       "      <td>hsa-miR-24-3p</td>\n",
       "      <td>MIMAT0000080</td>\n",
       "      <td>miRNA</td>\n",
       "      <td>Homo sapiens</td>\n",
       "      <td>E7</td>\n",
       "      <td>1489079.0</td>\n",
       "      <td>protein</td>\n",
       "      <td>Human papillomavirus type 16</td>\n",
       "      <td>0.9820</td>\n",
       "      <td>MHGDTPTLHEYMLDLQPETTDLYCYEQLNDSSEEEDEIDGPAGQAEPDRAHYNIVTFCCKCDSTLRLCVQSTHVDIRTLEDLLMGTLGIVCPICSQKP</td>\n",
       "      <td>P03129</td>\n",
       "      <td>UGGCUCAGUUCAGCAGGAACAG</td>\n",
       "    </tr>\n",
       "    <tr>\n",
       "      <th>12144</th>\n",
       "      <td>8923201</td>\n",
       "      <td>RP33979029</td>\n",
       "      <td>hsa-miR-205-5p</td>\n",
       "      <td>MIMAT0000266</td>\n",
       "      <td>miRNA</td>\n",
       "      <td>Homo sapiens</td>\n",
       "      <td>E7</td>\n",
       "      <td>1489079.0</td>\n",
       "      <td>protein</td>\n",
       "      <td>Human papillomavirus type 16</td>\n",
       "      <td>0.9933</td>\n",
       "      <td>MHGDTPTLHEYMLDLQPETTDLYCYEQLNDSSEEEDEIDGPAGQAEPDRAHYNIVTFCCKCDSTLRLCVQSTHVDIRTLEDLLMGTLGIVCPICSQKP</td>\n",
       "      <td>P03129</td>\n",
       "      <td>UCCUUCAUUCCACCGGAGUCUG</td>\n",
       "    </tr>\n",
       "    <tr>\n",
       "      <th>12157</th>\n",
       "      <td>8923231</td>\n",
       "      <td>RP33979091</td>\n",
       "      <td>hsa-miR-203b-5p</td>\n",
       "      <td>MIMAT0019813</td>\n",
       "      <td>miRNA</td>\n",
       "      <td>Homo sapiens</td>\n",
       "      <td>E7</td>\n",
       "      <td>1489079.0</td>\n",
       "      <td>protein</td>\n",
       "      <td>Human papillomavirus type 16</td>\n",
       "      <td>0.9526</td>\n",
       "      <td>MHGDTPTLHEYMLDLQPETTDLYCYEQLNDSSEEEDEIDGPAGQAEPDRAHYNIVTFCCKCDSTLRLCVQSTHVDIRTLEDLLMGTLGIVCPICSQKP</td>\n",
       "      <td>P03129</td>\n",
       "      <td>UAGUGGUCCUAAACAUUUCACA</td>\n",
       "    </tr>\n",
       "    <tr>\n",
       "      <th>12158</th>\n",
       "      <td>8923232</td>\n",
       "      <td>RP33979092</td>\n",
       "      <td>hsa-miR-203b-3p</td>\n",
       "      <td>MIMAT0019814</td>\n",
       "      <td>miRNA</td>\n",
       "      <td>Homo sapiens</td>\n",
       "      <td>E7</td>\n",
       "      <td>1489079.0</td>\n",
       "      <td>protein</td>\n",
       "      <td>Human papillomavirus type 16</td>\n",
       "      <td>0.9526</td>\n",
       "      <td>MHGDTPTLHEYMLDLQPETTDLYCYEQLNDSSEEEDEIDGPAGQAEPDRAHYNIVTFCCKCDSTLRLCVQSTHVDIRTLEDLLMGTLGIVCPICSQKP</td>\n",
       "      <td>P03129</td>\n",
       "      <td>UUGAACUGUUAAGAACCACUGGA</td>\n",
       "    </tr>\n",
       "  </tbody>\n",
       "</table>\n",
       "<p>12147 rows × 14 columns</p>\n",
       "</div>"
      ],
      "text/plain": [
       "       Unnamed: 0 Interaction_ID         RNA_Name HGNC/Entrex/Ensembl_ID  \\\n",
       "0          907814     RP00953369    RP11-125K10.5        ENSG00000228165   \n",
       "1          911713     RP00957415          MIR3184        ENSG00000266919   \n",
       "2          912105     RP00957817       AL365205.2        ENSG00000268745   \n",
       "3          912866     RP00958609     RP11-717A5.2        ENSG00000273196   \n",
       "4         2122927     RP02246386     RP11-717A5.2        ENSG00000273196   \n",
       "...           ...            ...              ...                    ...   \n",
       "12142     8917917     RP33972761     mmu-mir-8105              MI0026035   \n",
       "12143     8923194     RP33979003    hsa-miR-24-3p           MIMAT0000080   \n",
       "12144     8923201     RP33979029   hsa-miR-205-5p           MIMAT0000266   \n",
       "12157     8923231     RP33979091  hsa-miR-203b-5p           MIMAT0019813   \n",
       "12158     8923232     RP33979092  hsa-miR-203b-3p           MIMAT0019814   \n",
       "\n",
       "      RNA_type       Species Protein_name  NCBI_GeneID Protein_Type  \\\n",
       "0       lncRNA  Homo sapiens        HMGN3       9324.0           TF   \n",
       "1       lncRNA  Homo sapiens        HMGN3       9324.0           TF   \n",
       "2       lncRNA  Homo sapiens        HMGN3       9324.0           TF   \n",
       "3       lncRNA  Homo sapiens        HMGN3       9324.0           TF   \n",
       "4       lncRNA  Homo sapiens        SUMO2       6613.0           TF   \n",
       "...        ...           ...          ...          ...          ...   \n",
       "12142    miRNA  Mus musculus        Sumo2     170930.0           TF   \n",
       "12143    miRNA  Homo sapiens           E7    1489079.0      protein   \n",
       "12144    miRNA  Homo sapiens           E7    1489079.0      protein   \n",
       "12157    miRNA  Homo sapiens           E7    1489079.0      protein   \n",
       "12158    miRNA  Homo sapiens           E7    1489079.0      protein   \n",
       "\n",
       "                       Also_species  Confidence_score  \\\n",
       "0                      Homo sapiens            0.5117   \n",
       "1                      Homo sapiens            0.5117   \n",
       "2                      Homo sapiens            0.5117   \n",
       "3                      Homo sapiens            0.5117   \n",
       "4                      Homo sapiens            0.5117   \n",
       "...                             ...               ...   \n",
       "12142                  Mus musculus            0.5117   \n",
       "12143  Human papillomavirus type 16            0.9820   \n",
       "12144  Human papillomavirus type 16            0.9933   \n",
       "12157  Human papillomavirus type 16            0.9526   \n",
       "12158  Human papillomavirus type 16            0.9526   \n",
       "\n",
       "                                                                                                  proteins  \\\n",
       "0      MPKRKSPENTEGKDGSKVTKQEPTRRSARLSAKPAPPKPEPKPRKTSAKKEPGAKISRGAKGKKEEKQEAGKEGTAPSENGETKAEEAQKTESVDNEGE   \n",
       "1      MPKRKSPENTEGKDGSKVTKQEPTRRSARLSAKPAPPKPEPKPRKTSAKKEPGAKISRGAKGKKEEKQEAGKEGTAPSENGETKAEEAQKTESVDNEGE   \n",
       "2      MPKRKSPENTEGKDGSKVTKQEPTRRSARLSAKPAPPKPEPKPRKTSAKKEPGAKISRGAKGKKEEKQEAGKEGTAPSENGETKAEEAQKTESVDNEGE   \n",
       "3      MPKRKSPENTEGKDGSKVTKQEPTRRSARLSAKPAPPKPEPKPRKTSAKKEPGAKISRGAKGKKEEKQEAGKEGTAPSENGETKAEEAQKTESVDNEGE   \n",
       "4          MADEKPKEGVKTENNDHINLKVAGQDGSVVQFKIKRHTPLSKLMKAYCERQGLSMRQIRFRFDGQPINETDTPAQLEMEDEDTIDVFQQQTGGVY   \n",
       "...                                                                                                    ...   \n",
       "12142      MADEKPKEGVKTENNDHINLKVAGQDGSVVQFKIKRHTPLSKLMKAYCERQGLSMRQIRFRFDGQPINETDTPAQLEMEDEDTIDVFQQQTGGVY   \n",
       "12143   MHGDTPTLHEYMLDLQPETTDLYCYEQLNDSSEEEDEIDGPAGQAEPDRAHYNIVTFCCKCDSTLRLCVQSTHVDIRTLEDLLMGTLGIVCPICSQKP   \n",
       "12144   MHGDTPTLHEYMLDLQPETTDLYCYEQLNDSSEEEDEIDGPAGQAEPDRAHYNIVTFCCKCDSTLRLCVQSTHVDIRTLEDLLMGTLGIVCPICSQKP   \n",
       "12157   MHGDTPTLHEYMLDLQPETTDLYCYEQLNDSSEEEDEIDGPAGQAEPDRAHYNIVTFCCKCDSTLRLCVQSTHVDIRTLEDLLMGTLGIVCPICSQKP   \n",
       "12158   MHGDTPTLHEYMLDLQPETTDLYCYEQLNDSSEEEDEIDGPAGQAEPDRAHYNIVTFCCKCDSTLRLCVQSTHVDIRTLEDLLMGTLGIVCPICSQKP   \n",
       "\n",
       "      UniprotID  \\\n",
       "0        Q15651   \n",
       "1        Q15651   \n",
       "2        Q15651   \n",
       "3        Q15651   \n",
       "4        P61956   \n",
       "...         ...   \n",
       "12142    P61957   \n",
       "12143    P03129   \n",
       "12144    P03129   \n",
       "12157    P03129   \n",
       "12158    P03129   \n",
       "\n",
       "                                                                                                 rnas  \n",
       "0                         CACCATTCTTCAGTTATCACAGTACTGTACCTTTCAGATATACAGCATCGGTACCATGATAACCGAAAAAGGACA  \n",
       "1      GCGCGGGTTAGGAAGCAAGACTGAGGGGCCTCAGACCGAGCTTTTGGAAAATAGAAAAGTCTCGCTCTCTGCCCCTCAGCCTAACTTCCTTTAT  \n",
       "2                                CCAATGTTTCATTTCAACTGGCTTAAATCTTCAAAGTGGTTAAGAATTTAGTAAATAAAACTACTTAA  \n",
       "3                           GATCATATATACTTGCATAATATCATCCCTTCCCTTGATTTCTTTCAATCTAAAAATAAATATGAGAAAAACA  \n",
       "4                           GATCATATATACTTGCATAATATCATCCCTTCCCTTGATTTCTTTCAATCTAAAAATAAATATGAGAAAAACA  \n",
       "...                                                                                               ...  \n",
       "12142       UGCUUGAACCUGGGUCGAAGAAUCGGGGCUCGCCAGCCGACUCCUAAAGCGGAGGCGACUGGCGAGACCCGAAGAUCAGAGGGAGGAGA  \n",
       "12143                                                                          UGGCUCAGUUCAGCAGGAACAG  \n",
       "12144                                                                          UCCUUCAUUCCACCGGAGUCUG  \n",
       "12157                                                                          UAGUGGUCCUAAACAUUUCACA  \n",
       "12158                                                                         UUGAACUGUUAAGAACCACUGGA  \n",
       "\n",
       "[12147 rows x 14 columns]"
      ]
     },
     "execution_count": 3,
     "metadata": {},
     "output_type": "execute_result"
    }
   ],
   "source": [
    "df = pd.read_csv(\"../../Chapter_3/Data/TrainingData/PositiveSamples/RNAInter_small_interactions_current.csv\")\n",
    "\n",
    "def filter_out_hiv_interactions(df):\n",
    "    hiv_prot_interaction = df['Species'] == 'Human immunodeficiency virus 1'\n",
    "    hiv_rna_interaction = df['Also_species'] == 'Human immunodeficiency virus 1'\n",
    "    return df[~(hiv_rna_interaction | hiv_prot_interaction)]\n",
    "\n",
    "non_hiv_df = filter_out_hiv_interactions(df)\n",
    "non_hiv_df"
   ]
  },
  {
   "cell_type": "code",
   "execution_count": 4,
   "metadata": {},
   "outputs": [],
   "source": [
    "def generate_all_combos(list1, list2, list_limit = None):\n",
    "    \"\"\"\n",
    "    Returns all combinations of items in two input lists\n",
    "    \n",
    "    ex)\n",
    "    ---\n",
    "    >>> x = [1,2,3]\n",
    "    >>> y = ['x','y']\n",
    "    >>> generate_all_combos(x,y)\n",
    "    [(1, 'x'), (1, 'y'), (2, 'x'), (2, 'y'), (3, 'x'), (3, 'y')]\n",
    "    \"\"\"\n",
    "    return [(i,j) for i in list1[:list_limit] for j in list2[:list_limit]]"
   ]
  },
  {
   "cell_type": "code",
   "execution_count": 5,
   "metadata": {},
   "outputs": [],
   "source": [
    "# Load swissprot and RNAInter\n",
    "# Take all protein combos\n",
    "\n",
    "from Bio import SeqIO\n",
    "\n",
    "SWISS_PATH = \"/data/Chapter_3/Data/RawData/uniprot_sprot.fasta\"\n",
    "SEQ_LEN_LIMIT = 110\n",
    "\n",
    "def reverse_key_seq_dict(swiss_dict : dict) -> dict:\n",
    "    return {value : key for key,value in swiss_dict.items()}\n",
    "\n",
    "with open(SWISS_PATH) as handle:\n",
    "    # Need to have a unique ID for each seq\n",
    "    swiss_id2seq = reverse_key_seq_dict({\" \".join(str(record.seq)) : record.id.split('|')[1] for record in SeqIO.parse(handle, 'fasta') if len(record.seq) <= SEQ_LEN_LIMIT})\n",
    "    \n",
    "#     for record in :\n",
    "#         if str(record.seq) not in swiss_seqs:\n",
    "#             swiss_ids.append()\n",
    "#             swiss_seqs.append(str(record.seq))\n",
    "            \n",
    "    #swiss_fasta = [(record.name, str(record.seq)) for  if len(record.seq) <= 110]\n",
    "\n",
    "# swiss = list(set([\" \".join(protein) for protein in filter_sequences_by_len_from_fasta(SWISS_PATH, 110)]))"
   ]
  },
  {
   "cell_type": "code",
   "execution_count": 6,
   "metadata": {},
   "outputs": [],
   "source": [
    "class RNAInterIDConverter:\n",
    "    \"\"\"\n",
    "    RNAInterIDConverter is designed to X\n",
    "    \"\"\"\n",
    "    \n",
    "    def __init__(self, seed):\n",
    "        self.seed = seed\n",
    "        self._taken_names = list()\n",
    "    \n",
    "    def clear_taken_names(self):\n",
    "        self._taken_names = list()\n",
    "    \n",
    "    def get_uniprot_id_from_seq(self, df, protein_seq):\n",
    "        return df[df['proteins'] == protein_seq]['UniprotID'].iloc[0]\n",
    "    \n",
    "    def get_random_rna_id(self, rna_names : pd.Series):\n",
    "        shuffled_names = rna_names.sample(frac = 1, random_state = self.seed)\n",
    "        \n",
    "        for i in range(len(shuffled_names)):\n",
    "            \n",
    "            if shuffled_names.iloc[i] not in self._taken_names:\n",
    "                name = shuffled_names.iloc[i]\n",
    "                self._taken_names.append(name)\n",
    "                return name\n",
    "            \n",
    "            # If it's the final entry, just use that\n",
    "            elif i == len(shuffled_names)-1:\n",
    "                return shuffled_names.iloc[i]\n",
    "        \n",
    "    def get_rna_id_from_seq(self, df, seq):\n",
    "        self.clear_taken_names()\n",
    "        rna_ids = df[df['proteins'] == seq]['RNA_Name']\n",
    "        random_rna_id = self.get_random_rna_id(rna_ids)\n",
    "        return random_rna_id\n",
    "        \n",
    "    def get_rna_and_unirpot_id_from_seq(self, df, seq):\n",
    "        return (self.get_uniprot_id_from_seq(df, seq), self.get_rna_id_from_seq(df, seq))\n",
    "    \n",
    "    def get_unique_protein_uniprot_ids_and_rna_pair_from_df(self, df : pd.DataFrame):\n",
    "        unique_seqs    = df['proteins'].unique()\n",
    "        unique_protein_ids = [self.get_rna_and_unirpot_id_from_seq(df, protein_seq) for protein_seq in unique_seqs]\n",
    "        return unique_protein_ids"
   ]
  },
  {
   "cell_type": "code",
   "execution_count": 7,
   "metadata": {},
   "outputs": [],
   "source": [
    "class RNAInterRNACovnerter:\n",
    "    \"\"\"\n",
    "    Generates the dictionary that converts RNA names to\n",
    "    their encoded sequences\n",
    "    \"\"\"\n",
    "    \n",
    "    def encode_sequences(self, rna_seqs, embedder):\n",
    "        return embedder(rna_seqs)\n",
    "    \n",
    "    def generate_rna_name_to_embedded_seq_converter(self, rna_names, embedded_seqs):\n",
    "        return dict(zip(rna_names, embedded_seqs))\n",
    "    \n",
    "    def generate_rna_name_to_encoded_tensor_dict(self, rna_names, rna_seqs, embedder):\n",
    "        embedded_seqs  = self.encode_sequences(rna_seqs, embedder)\n",
    "        converter_dict = self.generate_rna_name_to_embedded_seq_converter(rna_names, embedded_seqs)\n",
    "        return converter_dict\n",
    "    \n",
    "    def find_rna_seq_from_name(self, rna_name, df):\n",
    "        return df[df['RNA_Name'] == rna_name]['rnas'].iloc[0]\n",
    "    \n",
    "    def return_rna_seqs_from_names(self, rna_names, df):\n",
    "        return [self.find_rna_seq_from_name(rna_name, df) for rna_name in rna_names]\n",
    "    \n",
    "    def generate_rna_name_to_encoded_tensor_dict_from_df(self, rna_names, df, embedder):\n",
    "        rna_seqs       = self.return_rna_seqs_from_names(rna_names, df)\n",
    "        # print(list(rna_seqs))\n",
    "        converter_dict = self.generate_rna_name_to_encoded_tensor_dict(rna_names, list(rna_seqs), embedder)\n",
    "        return converter_dict"
   ]
  },
  {
   "cell_type": "code",
   "execution_count": 8,
   "metadata": {},
   "outputs": [],
   "source": [
    "class RNAInterRNACovnerter:\n",
    "    \"\"\"\n",
    "    Generates the dictionary that converts RNA names to\n",
    "    their encoded sequences\n",
    "    \"\"\"\n",
    "    \n",
    "    def encode_sequences(self, rna_seqs, embedder):\n",
    "        return embedder(rna_seqs)\n",
    "    \n",
    "    def generate_rna_name_to_embedded_seq_converter(self, rna_names, embedded_seqs):\n",
    "        return dict(zip(rna_names, embedded_seqs))\n",
    "    \n",
    "    def generate_rna_name_to_encoded_tensor_dict(self, rna_names, rna_seqs, embedder):\n",
    "        embedded_seqs  = self.encode_sequences(rna_seqs, embedder)\n",
    "        converter_dict = self.generate_rna_name_to_embedded_seq_converter(rna_names, embedded_seqs)\n",
    "        return converter_dict\n",
    "    \n",
    "    def find_rna_seq_from_name(self, rna_name, df):\n",
    "        return df[df['RNA_Name'] == rna_name]['rnas'].iloc[0]\n",
    "    \n",
    "    def return_rna_seqs_from_names(self, rna_names, df):\n",
    "        return [self.find_rna_seq_from_name(rna_name, df) for rna_name in rna_names]\n",
    "    \n",
    "    def generate_rna_name_to_encoded_tensor_dict_from_df(self, rna_names, df, embedder):\n",
    "        rna_seqs       = self.return_rna_seqs_from_names(rna_names, df)\n",
    "        # print(list(rna_seqs))\n",
    "        converter_dict = self.generate_rna_name_to_encoded_tensor_dict(rna_names, list(rna_seqs), embedder)\n",
    "        return converter_dict"
   ]
  },
  {
   "cell_type": "code",
   "execution_count": 9,
   "metadata": {},
   "outputs": [],
   "source": [
    "rnainter_idconverter = RNAInterIDConverter(seed = 255)\n",
    "rnainter_protein_rna_pairs = rnainter_idconverter.get_unique_protein_uniprot_ids_and_rna_pair_from_df(non_hiv_df)\n",
    "uniprot2rnaname = dict(rnainter_protein_rna_pairs)"
   ]
  },
  {
   "cell_type": "code",
   "execution_count": 10,
   "metadata": {},
   "outputs": [],
   "source": [
    "rnainter_rna_to_tensor_converter = RNAInterRNACovnerter()\n",
    "\n",
    "rna_embedder_1d = SkipGramEmbedder(\"/data/Chapter_3/SeqEmbedders/GensimWord2Vec/RNA2Vec_1024_hidden.model\", reduce = True)\n",
    "rna_embedder_2d = SkipGramEmbedder(\"/data/Chapter_3/SeqEmbedders/GensimWord2Vec/RNA2Vec_1024_hidden.model\", reduce = False, outsize = 100)\n",
    "\n",
    "rnaname2tensor = rnainter_rna_to_tensor_converter.generate_rna_name_to_encoded_tensor_dict_from_df(uniprot2rnaname.values(), non_hiv_df, rna_embedder_1d)\n",
    "rnaname2tensor_2d = rnainter_rna_to_tensor_converter.generate_rna_name_to_encoded_tensor_dict_from_df(uniprot2rnaname.values(), non_hiv_df, rna_embedder_2d)"
   ]
  },
  {
   "cell_type": "code",
   "execution_count": 11,
   "metadata": {},
   "outputs": [],
   "source": [
    "class SwissIdCovnerter:\n",
    "    \"\"\"\n",
    "    Generates the dictionary that converts Swiss names to\n",
    "    their encoded sequences\n",
    "    \"\"\"\n",
    "    \n",
    "    def encode_sequences(self, rna_seqs, embedder):\n",
    "        return embedder(rna_seqs)\n",
    "    \n",
    "    def generate_rna_name_to_embedded_seq_converter(self, rna_names, embedded_seqs):\n",
    "        return dict(zip(rna_names, embedded_seqs))\n",
    "    \n",
    "    def generate_rna_name_to_encoded_tensor_dict(self, rna_names, rna_seqs, embedder):\n",
    "        embedded_seqs  = self.encode_sequences(rna_seqs, embedder)\n",
    "        converter_dict = self.generate_rna_name_to_embedded_seq_converter(rna_names, embedded_seqs)\n",
    "        return converter_dict\n",
    "    \n",
    "    def find_rna_seq_from_name(self, rna_name, df):\n",
    "        return df[df['RNA_Name'] == rna_name]['rnas'].iloc[0]\n",
    "    \n",
    "    def return_rna_seqs_from_names(self, rna_names, df):\n",
    "        return [self.find_rna_seq_from_name(rna_name, df) for rna_name in rna_names]\n",
    "    \n",
    "    def generate_swiss_name_to_encoded_tensor_dict_from_df(self, rna_names, df, embedder):\n",
    "        rna_seqs       = self.return_rna_seqs_from_names(rna_names, df)\n",
    "        # print(list(rna_seqs))\n",
    "        converter_dict = self.generate_rna_name_to_encoded_tensor_dict(rna_names, list(rna_seqs), embedder)\n",
    "        return converter_dict"
   ]
  },
  {
   "cell_type": "code",
   "execution_count": 12,
   "metadata": {},
   "outputs": [
    {
     "name": "stdout",
     "output_type": "stream",
     "text": [
      "327\n",
      "327\n"
     ]
    }
   ],
   "source": [
    "grouped_df = non_hiv_df.groupby(\"proteins\").first()\n",
    "first_values = grouped_df.reset_index()\n",
    "\n",
    "unique_reduced_rnainter_uniprot_ids = first_values['UniprotID'].unique()\n",
    "unique_proteins = list(first_values['proteins'].apply(lambda x: \" \".join(x)))\n",
    "\n",
    "print(len(unique_reduced_rnainter_uniprot_ids))\n",
    "print(len(unique_proteins))"
   ]
  },
  {
   "cell_type": "code",
   "execution_count": 13,
   "metadata": {},
   "outputs": [],
   "source": [
    "swiss_seqs = list(swiss_id2seq.values())"
   ]
  },
  {
   "cell_type": "code",
   "execution_count": 14,
   "metadata": {
    "scrolled": true
   },
   "outputs": [],
   "source": [
    "# proteins, tokenizer, model, chunksize, max_len, cuda = True):\n",
    "model     = AutoModel.from_pretrained(\"Rostlab/prot_bert_bfd\")\n",
    "tokenizer = AutoTokenizer.from_pretrained(\"Rostlab/prot_bert_bfd\", do_lower_case = False)\n",
    "\n",
    "swiss_embedder_1d = IterableProteinEmbedding(swiss_seqs, tokenizer, model, chunksize = 3, max_len = 110, cuda = True)\n",
    "swiss_embedder_2d = IterableProteinEmbedding(swiss_seqs, tokenizer, model, chunksize = 3, max_len = 110, reduce = False, cuda = True)\n",
    "\n",
    "# Need sorted set to make a reproducable set initialization for redoing stuff\n",
    "from Utils.encoders import ProtBERTEmbedder\n",
    "\n",
    "# rnainter_prot_embedder = ProtBERTEmbedder(112,True)\n",
    "# print(rnainter_prot_embedder.model.training)\n",
    "\n",
    "rnainter_prot_embedder = IterableProteinEmbedding(unique_proteins, tokenizer, model, chunksize = 3, max_len = 110, reduce = True, cuda = True)\n",
    "rnainter_prot_embedder_2d = IterableProteinEmbedding(unique_proteins, tokenizer, model, chunksize = 3, max_len = 110, reduce = False, cuda = True)"
   ]
  },
  {
   "cell_type": "code",
   "execution_count": 15,
   "metadata": {},
   "outputs": [],
   "source": [
    "import os\n",
    "\n",
    "SWISS_EMBEDDED_PATH = \"../Data/EncodedData/ProtBERT_encoded_110_swissprot_1dim.pt\"\n",
    "SWISS_EMBEDDED_PATH_2D =  \"../Data/EncodedData/ProtBERT_encoded_110_swissprot_2dim.pt\"\n",
    "\n",
    "def load_or_embed_swiss(swiss_embedder, path):\n",
    "    \"If swiss is already encoded, load it. If not, embed it and save the tensor for future use at specificied path\"\n",
    "    if not os.path.exists(path):\n",
    "        with torch.no_grad():\n",
    "            swiss_embedded = torch.cat([i for i in swiss_embedder])\n",
    "        torch.save(swiss_embedded, path)\n",
    "    else:\n",
    "        swiss_embedded = torch.load(path)\n",
    "    return swiss_embedded\n",
    "    \n",
    "    \n",
    "swiss_embedded = load_or_embed_swiss(swiss_embedder_1d, SWISS_EMBEDDED_PATH)\n",
    "\n",
    "# Do not use 2D until actually embedding Training data, not for generating\n",
    "# negative samples\n",
    "#swiss_embedded_2d = load_or_embed_swiss(swiss_embedder_2d, SWISS_EMBEDDED_PATH_2D)"
   ]
  },
  {
   "cell_type": "code",
   "execution_count": 16,
   "metadata": {},
   "outputs": [],
   "source": [
    "# Swiss uniptot IDs linked to their corresponding tensors\n",
    "swiss2tensor = dict(zip(swiss_id2seq.keys(), swiss_embedded))\n",
    "# swiss2tensor_2d = dict(zip(swiss_ids_2d, swiss_embedded_2d))"
   ]
  },
  {
   "cell_type": "code",
   "execution_count": 17,
   "metadata": {},
   "outputs": [
    {
     "data": {
      "application/vnd.jupyter.widget-view+json": {
       "model_id": "1b44a4a4c50046d5bf3cb581d3bfac48",
       "version_major": 2,
       "version_minor": 0
      },
      "text/plain": [
       "  0%|          | 0/109 [00:00<?, ?it/s]"
      ]
     },
     "metadata": {},
     "output_type": "display_data"
    }
   ],
   "source": [
    "with torch.no_grad():\n",
    "    rnainter_embedded = torch.cat(list(rnainter_prot_embedder))"
   ]
  },
  {
   "cell_type": "code",
   "execution_count": 18,
   "metadata": {},
   "outputs": [],
   "source": [
    "class ComboDifferenceIterator:\n",
    "    \"\"\"\n",
    "    \n",
    "    \"\"\"\n",
    "    def __init__(self, seq_matrix1, seq_matrix2, model, chunksize, limit = None):\n",
    "        self.seq_matrix1 = seq_matrix1\n",
    "        self.seq_matrix2 = seq_matrix2\n",
    "        self.model = model\n",
    "        \n",
    "        assert chunksize > 1, f\"ComboIterator fails when chunksize is less than 2. recieved chunksize: {chunksize}\"\n",
    "        self.chunksize = chunksize\n",
    "        self.limit = limit\n",
    "    \n",
    "    def _format_matrix_for_sae_diff(self, combo):\n",
    "        return torch.stack(combo)\n",
    "    \n",
    "    def format_combos_for_sae_diff(self, combos):\n",
    "        combo1, combo2 = zip(*combos)\n",
    "        combo1 = self._format_matrix_for_sae_diff(combo1)\n",
    "        combo2 = self._format_matrix_for_sae_diff(combo2)\n",
    "        return combo1, combo2\n",
    "    \n",
    "    def __iter__(self):\n",
    "        \n",
    "        combos = generate_all_combos(self.seq_matrix1, self.seq_matrix2, list_limit = self.limit)\n",
    "        \n",
    "        for i in tqdm(range(0,len(combos),self.chunksize)):\n",
    "            combo1, combo2 = self.format_combos_for_sae_diff(combos[i:i+self.chunksize])\n",
    "            \n",
    "            reduced_combo1 = self.model(combo1)\n",
    "            reduced_combo2 = self.model(combo2)\n",
    "            \n",
    "            combo_len = len(reduced_combo1)\n",
    "            \n",
    "            difference_magnitude = magnitude(reduced_combo1 - reduced_combo2).reshape(combo_len, 1)\n",
    "            \n",
    "            yield difference_magnitude"
   ]
  },
  {
   "cell_type": "code",
   "execution_count": 19,
   "metadata": {},
   "outputs": [],
   "source": [
    "SAE_DIR  = '/data/Chapter_3/Notebooks'\n",
    "rna_sae  = torch.load(f\"{SAE_DIR}/rnavec_encoded_aggregated_u_t_swapped_rnas_DenseSAE.pt\")\n",
    "prot_sae = torch.load(f\"{SAE_DIR}/ProtBERT_encoded_110_swissprot_DenseSAE.pt\")"
   ]
  },
  {
   "cell_type": "code",
   "execution_count": 20,
   "metadata": {},
   "outputs": [],
   "source": [
    "protein_combo_iterator = ComboDifferenceIterator(rnainter_embedded, swiss_embedded.cuda(), prot_sae.cuda(), 10)"
   ]
  },
  {
   "cell_type": "code",
   "execution_count": 21,
   "metadata": {},
   "outputs": [],
   "source": [
    "DIFFERENCE_MATRIX = \"../Data/EncodedData/Difference_Magnitude_ProtBERT_encoded_110_swissprot_v2_and_Unique_RNAInter_Proteins.pt\"\n",
    "\n",
    "if not os.path.exists(DIFFERENCE_MATRIX):\n",
    "    with torch.no_grad():\n",
    "        protein_combo_magnitudes = torch.cat([i for i in protein_combo_iterator])\n",
    "        torch.save(protein_combo_magnitudes, DIFFERENCE_MATRIX)\n",
    "else:\n",
    "    protein_combo_magnitudes = torch.load(DIFFERENCE_MATRIX)\n",
    "\n",
    "# protein_combo_magnitudes = torch.cat([i for i in protein_combo_iterator])"
   ]
  },
  {
   "cell_type": "code",
   "execution_count": 22,
   "metadata": {},
   "outputs": [
    {
     "data": {
      "text/plain": [
       "torch.Size([16812705, 1])"
      ]
     },
     "execution_count": 22,
     "metadata": {},
     "output_type": "execute_result"
    }
   ],
   "source": [
    "protein_combo_magnitudes.shape"
   ]
  },
  {
   "cell_type": "code",
   "execution_count": 23,
   "metadata": {},
   "outputs": [
    {
     "data": {
      "text/plain": [
       "16812705"
      ]
     },
     "execution_count": 23,
     "metadata": {},
     "output_type": "execute_result"
    }
   ],
   "source": [
    "combo_ids = generate_all_combos(unique_reduced_rnainter_uniprot_ids, list(swiss_id2seq.keys()))\n",
    "len(combo_ids)"
   ]
  },
  {
   "cell_type": "code",
   "execution_count": 24,
   "metadata": {},
   "outputs": [],
   "source": [
    "bin_assigner = KBinsDiscretizer(n_bins=10, encode='ordinal')\n",
    "bins         = bin_assigner.fit_transform(protein_combo_magnitudes.cpu()).squeeze().astype(int)"
   ]
  },
  {
   "cell_type": "code",
   "execution_count": 25,
   "metadata": {},
   "outputs": [],
   "source": [
    "def plot_bin_and_diff_magnitudes(bins, protein_combo_magnitudes, ax):\n",
    "    sbn.boxplot(x = bins, y = np.array( protein_combo_magnitudes.cpu().squeeze()), showfliers = False, \n",
    "                linewidth = 1.3, ax = ax)\n",
    "    ax.set_ylabel(\"Difference magnitude\")\n",
    "    ax.set_xlabel(\"Bins\")\n",
    "\n",
    "def plot_combo_magnitude_dist(protein_combo_magnitudes, ax):\n",
    "    sbn.histplot(protein_combo_magnitudes.cpu(), legend = False, ax = ax)\n",
    "    ax.set_xlabel(\"Difference magnitude\")"
   ]
  },
  {
   "cell_type": "code",
   "execution_count": 26,
   "metadata": {},
   "outputs": [
    {
     "data": {
      "image/png": "[encoded data removed]",
      "text/plain": [
       "<Figure size 432x216 with 2 Axes>"
      ]
     },
     "metadata": {
      "needs_background": "light"
     },
     "output_type": "display_data"
    }
   ],
   "source": [
    "fig,axes = plt.subplots(1,2, figsize = (6,3))\n",
    "\n",
    "# sbn.boxplot(x = bins, y = np.array( protein_combo_magnitudes.cpu().squeeze()), ax = axes[0])\n",
    "# sbn.histplot(protein_combo_magnitudes.cpu(), legend = False, ax = axes[1])\n",
    "\n",
    "# axes[0].set_ylabel(\"Difference magnitude\")\n",
    "# axes[0].set_xlabel(\"Bins\")\n",
    "# axes[1].set_xlabel(\"Difference magnitude\")\n",
    "\n",
    "plot_bin_and_diff_magnitudes(bins, protein_combo_magnitudes, axes[0])\n",
    "plot_combo_magnitude_dist(protein_combo_magnitudes, axes[1])\n",
    "\n",
    "plt.tight_layout()\n",
    "sbn.despine()\n",
    "\n",
    "plt.savefig(\"bin_and_diff_magnitude.png\",dpi = 300)"
   ]
  },
  {
   "cell_type": "markdown",
   "metadata": {},
   "source": [
    "# Sample protein pairs using difference magnitudes"
   ]
  },
  {
   "cell_type": "code",
   "execution_count": 27,
   "metadata": {},
   "outputs": [],
   "source": [
    "class CustomWeightedRandomSampler(WeightedRandomSampler):\n",
    "    \"\"\"\n",
    "    WeightedRandomSampler except allows for more than 2^24 samples to be sampled\n",
    "    \n",
    "    jacked from: https://github.com/pytorch/pytorch/issues/2576#issuecomment-831780307\n",
    "    \"\"\"\n",
    "    def __init__(self, *args, **kwargs):\n",
    "        super().__init__(*args, **kwargs)\n",
    "\n",
    "    def __iter__(self):\n",
    "        rand_tensor = np.random.choice(range(0, len(self.weights)),\n",
    "                                       size=self.num_samples,\n",
    "                                       p=self.weights.numpy() / torch.sum(self.weights).numpy(),\n",
    "                                       replace=self.replacement)\n",
    "        rand_tensor = torch.from_numpy(rand_tensor)\n",
    "        return iter(rand_tensor.tolist())"
   ]
  },
  {
   "cell_type": "code",
   "execution_count": 28,
   "metadata": {},
   "outputs": [],
   "source": [
    "class NegativeSampleIdxGenerator():\n",
    "    \"\"\"\n",
    "    NegativeSampleIdxGenerator is used to assign negative sample \n",
    "    indeces using assigned bins and bin weights. This is meant \n",
    "    to be used for protein difference vector magnitudes, but can \n",
    "    be applied for any dataset that is assigned into bins and\n",
    "    have bin weights.Can be used on its own, but is primarily \n",
    "    intended to be used within the <TBD> class. \n",
    "    \n",
    "    It has two main functions:\n",
    "    \n",
    "    ####################################################\n",
    "    generate_negative_sample_idxs_from_sample_weights\n",
    "    ####################################################\n",
    "    This will generate a list of negative indecies from a list\n",
    "    of weights from each sample and a number of desired samples\n",
    "    \n",
    "    ###########################################\n",
    "    generate_negative_sample_idxs_from_bins\n",
    "    ###########################################\n",
    "    This will generate a list of negative indecies using a list of\n",
    "    bins that each sample is in, each bin's specific weight, and a\n",
    "    number of desired samples. This converts each sample's bin\n",
    "    assignment into a sample weight where the \n",
    "    generate_negative_sample_idxs_from_sample_weights method is\n",
    "    then run\n",
    "    \"\"\"\n",
    "    \n",
    "    def __init__(self, seed):\n",
    "        self.seed = seed\n",
    "    \n",
    "    def _generate_weight_assigner(self, bin_weights):\n",
    "        return dict(zip(range(len(bin_weights)), bin_weights))\n",
    "    \n",
    "    def _convert_bins_to_weights(self, bins, bin_weights):\n",
    "        weight_assigner = self._generate_weight_assigner(bin_weights)\n",
    "        sample_weights = pd.Series(bins).apply(lambda x: weight_assigner[x])\n",
    "        return sample_weights\n",
    "    \n",
    "    def generate_negative_sample_idxs_from_sample_weights(self, sample_weights, sample_count):\n",
    "        torch.manual_seed(self.seed)\n",
    "        # was WeightedRandomSampler(sample_weights, sample_count, replacement=False)\n",
    "        negative_pair_idx = list(CustomWeightedRandomSampler(sample_weights, sample_count, replacement=False))\n",
    "        return negative_pair_idx\n",
    "    \n",
    "    def generate_negative_sample_idxs_from_bins(self, bins, bin_weights, sample_count):\n",
    "        sample_weights = self._convert_bins_to_weights(bins, bin_weights)\n",
    "        negative_pair_idx = self.generate_negative_sample_idxs_from_sample_weights(sample_weights, sample_count)\n",
    "        return negative_pair_idx"
   ]
  },
  {
   "cell_type": "code",
   "execution_count": 29,
   "metadata": {
    "scrolled": true
   },
   "outputs": [],
   "source": [
    "def get_rna_partner_from_rnainter_uniprot_id(uniprot_id : str, uniprot2rnaname, rnaname2tensor) -> torch.tensor:\n",
    "    rna_partner_name = uniprot2rnaname[uniprot_id]\n",
    "    # encoded_rna_partner = rnaname2tensor[rna_partner_name] # 1Dim\n",
    "    encoded_rna_partner = rnaname2tensor[rna_partner_name] # 2Dim\n",
    "    return encoded_rna_partner"
   ]
  },
  {
   "cell_type": "code",
   "execution_count": 30,
   "metadata": {},
   "outputs": [],
   "source": [
    "def get_new_encoded_swiss_partner_from_rnainter_uniprot_id(rnainter_swiss_id_pair: tuple) -> torch.tensor:\n",
    "    _, swiss_id = rnainter_swiss_id_pair\n",
    "    # encoded_swiss_seq = swiss2tensor[swiss_id] # 1Dim\n",
    "    encoded_swiss_seq = swiss2tensor_2d[swiss_id] #2Dim\n",
    "    return encoded_swiss_seq"
   ]
  },
  {
   "cell_type": "code",
   "execution_count": 31,
   "metadata": {},
   "outputs": [],
   "source": [
    "def return_positive_samples(df, rna_embedder, reduce = True):\n",
    "    model     = AutoModel.from_pretrained(\"Rostlab/prot_bert_bfd\")\n",
    "    tokenizer = AutoTokenizer.from_pretrained(\"Rostlab/prot_bert_bfd\", do_lower_case = False)\n",
    "\n",
    "    rnainter_prot_embedder = IterableProteinEmbedding(df['proteins'], tokenizer, model, chunksize = 3, max_len = 110, reduce = reduce, cuda = True)\n",
    "    encoded_rnainter_prots = torch.cat([encoded_prot for encoded_prot in rnainter_prot_embedder])\n",
    "\n",
    "    encoded_rnainter_rnas = rna_embedder(df['rnas'])\n",
    "    interaction = torch.ones(len(df))\n",
    "\n",
    "    return encoded_rnainter_prots, encoded_rnainter_rnas, interaction"
   ]
  },
  {
   "cell_type": "code",
   "execution_count": 32,
   "metadata": {},
   "outputs": [],
   "source": [
    "from Bio import SeqIO\n",
    "\n",
    "def generate_swiss2seq(negative_pairs, swiss_path):\n",
    "    _, neg_swiss_ids = zip(*negative_pairs)\n",
    "    neg_swiss_ids = set(swiss_ids)\n",
    "    \n",
    "    with open(swiss_path) as handle:\n",
    "        swiss2seq = {record.description.split(\"|\")[1] : \" \".join(list(record.seq)) for record in SeqIO.parse(handle, 'fasta') if record.description.split(\"|\")[1] in neg_swiss_ids}\n",
    "        \n",
    "    return swiss2seq"
   ]
  },
  {
   "cell_type": "code",
   "execution_count": 33,
   "metadata": {},
   "outputs": [],
   "source": [
    "def return_negative_samples(negative_pairs, swiss_id2seq, uniprot2rnaname, rnaname2tensor, reduce):\n",
    "    encoded_rnas = list()\n",
    "    encoded_swiss_prots = list()\n",
    "    non_interaction = torch.zeros(len(negative_pairs))\n",
    "    \n",
    "    for negative_pair in negative_pairs:\n",
    "\n",
    "        encoded_rna = get_rna_partner_from_rnainter_uniprot_id(negative_pair[0], uniprot2rnaname, rnaname2tensor)\n",
    "        encoded_rnas.append(encoded_rna)\n",
    "\n",
    "    model     = AutoModel.from_pretrained(\"Rostlab/prot_bert_bfd\")\n",
    "    tokenizer = AutoTokenizer.from_pretrained(\"Rostlab/prot_bert_bfd\", do_lower_case = False)\n",
    "    \n",
    "    _, swiss_ids = zip(*negative_pairs)\n",
    "    \n",
    "    seqs = [swiss_id2seq[swiss_id] for swiss_id in swiss_ids]\n",
    "    neg_swiss_embedder = IterableProteinEmbedding(seqs, tokenizer, model, chunksize = 3, max_len = 110, reduce = reduce, cuda = True)\n",
    "    \n",
    "    with torch.no_grad():\n",
    "        encoded_swiss_prots = torch.cat(list(neg_swiss_embedder))\n",
    "\n",
    "    encoded_rnas = torch.stack(encoded_rnas)\n",
    "    # encoded_swiss_prots = torch.stack(encoded_swiss_prots)\n",
    "    \n",
    "    return encoded_swiss_prots, encoded_rnas, non_interaction"
   ]
  },
  {
   "cell_type": "code",
   "execution_count": 34,
   "metadata": {},
   "outputs": [],
   "source": [
    "def return_positive_samples(df, rna_embedder, reduce = True):\n",
    "    model     = AutoModel.from_pretrained(\"Rostlab/prot_bert_bfd\")\n",
    "    tokenizer = AutoTokenizer.from_pretrained(\"Rostlab/prot_bert_bfd\", do_lower_case = False)\n",
    "\n",
    "    rnainter_prot_embedder = IterableProteinEmbedding(df['proteins'].apply(lambda x: \" \".join(x)), tokenizer, model, chunksize = 3, max_len = 110, reduce = reduce, cuda = True)\n",
    "    with torch.no_grad():\n",
    "        encoded_rnainter_prots = torch.cat([encoded_prot for encoded_prot in rnainter_prot_embedder])\n",
    "\n",
    "    encoded_rnainter_rnas = rna_embedder(df['rnas'].str.replace('T','U').str.replace('t','u'))\n",
    "    interaction = torch.ones(len(df))\n",
    "\n",
    "    return encoded_rnainter_prots, encoded_rnainter_rnas, interaction"
   ]
  },
  {
   "cell_type": "code",
   "execution_count": 35,
   "metadata": {},
   "outputs": [],
   "source": [
    "class RPI1807_processor:\n",
    "    \"\"\"\n",
    "    RPI1807 is currently as a csv, it must be processed into\n",
    "    encoded data before being validated.\n",
    "    \"\"\"\n",
    "    \n",
    "    def __init__(self, rpi1807_csv_path, mode):\n",
    "        assert mode in ['negative_samples','dl_prediction'], \\\n",
    "        'mode must either be in \"negative_samples\" or \"dl_prediction\" for LazyClassifier and DL model evaluation respectively'\n",
    "        \n",
    "        self.rpi1807_path = rpi1807_csv_path\n",
    "        self.mode = mode\n",
    "        \n",
    "        self.rna_embedder = SkipGramEmbedder(\"../SeqEmbedders/GensimWord2Vec/RNA2Vec_1024_hidden.model\", reduce = True)\n",
    "        self.data = pd.read_csv(rpi1807_csv_path)\n",
    "        \n",
    "        def truncate_rpi1807_sequences():\n",
    "            short_rnas = self.data['rnas'].apply(len) <= 100\n",
    "            short_proteins = self.data['proteins'].apply(len) <= 110\n",
    "            self.data = self.data[short_rnas & short_proteins]\n",
    "        \n",
    "        truncate_rpi1807_sequences()\n",
    "        \n",
    "    def encode_rnas(self, rna_seqs) -> torch.Tensor:\n",
    "        return self.rna_embedder(rna_seqs)\n",
    "        \n",
    "    def _preprocess_protein(self, protein_seq):\n",
    "        return \" \".join(list(protein_seq))\n",
    "    \n",
    "    def _preprocess_proteins(self, protein_seqs):\n",
    "        return [self._preprocess_protein(seq) for seq in protein_seqs]\n",
    "    \n",
    "    def encode_proteins(self, prot_seqs) -> torch.Tensor:\n",
    "        processed_proteins = self._preprocess_proteins(prot_seqs)\n",
    "        # print(processed_proteins)\n",
    "        model     = AutoModel.from_pretrained(\"Rostlab/prot_bert_bfd\")\n",
    "        tokenizer = AutoTokenizer.from_pretrained(\"Rostlab/prot_bert_bfd\", do_lower_case = False)\n",
    "\n",
    "        rpi1807_embedder = IterableProteinEmbedding(processed_proteins, tokenizer, model, chunksize = 3, max_len = 110, cuda = True)\n",
    "        encoded_proteins = torch.cat([i for i in rpi1807_embedder])\n",
    "        \n",
    "        return encoded_proteins\n",
    "        \n",
    "    def process_rpi1807(self) -> tuple:\n",
    "        encoded_proteins = self.encode_proteins(self.data['proteins']).cpu()\n",
    "        encoded_rnas = self.encode_rnas(self.data['rnas']).cpu()\n",
    "        interaction = torch.tensor(self.data['interacts'].values)\n",
    "        \n",
    "        processed_data = (encoded_proteins, encoded_rnas, interaction)\n",
    "        \n",
    "        if self.mode == 'negative_samples':\n",
    "            processed_data = get_lazy_X_and_y_data(processed_data)\n",
    "            \n",
    "        return processed_data"
   ]
  },
  {
   "cell_type": "code",
   "execution_count": 36,
   "metadata": {},
   "outputs": [],
   "source": [
    "def isolate_split_data(data, idx):\n",
    "    return [encoded[idx] for encoded in data]"
   ]
  },
  {
   "cell_type": "code",
   "execution_count": 37,
   "metadata": {},
   "outputs": [],
   "source": [
    "SLIGHT_LEFT_SKEW_WEIGHTS = [ 0.0625, 0.140625, 0.30, 0.25, 0.125, .0625, 0.03125, .015, .008, .006-.000875][::-1]\n",
    "SAMPLES = len(non_hiv_df)\n",
    "neg_idx_generator = NegativeSampleIdxGenerator(255)\n",
    "\n",
    "negative_pair_idx = neg_idx_generator.generate_negative_sample_idxs_from_bins(bins, SLIGHT_LEFT_SKEW_WEIGHTS, SAMPLES)\n",
    "negative_pairs = np.array(combo_ids)[negative_pair_idx]"
   ]
  },
  {
   "cell_type": "code",
   "execution_count": 36,
   "metadata": {},
   "outputs": [
    {
     "data": {
      "application/vnd.jupyter.widget-view+json": {
       "model_id": "19fe117ebf174246866ea8e6a79b8281",
       "version_major": 2,
       "version_minor": 0
      },
      "text/plain": [
       "  0%|          | 0/4049 [00:00<?, ?it/s]"
      ]
     },
     "metadata": {},
     "output_type": "display_data"
    },
    {
     "data": {
      "application/vnd.jupyter.widget-view+json": {
       "model_id": "3706506a554b4411846bf2563939e77e",
       "version_major": 2,
       "version_minor": 0
      },
      "text/plain": [
       "  0%|          | 0/4049 [00:00<?, ?it/s]"
      ]
     },
     "metadata": {},
     "output_type": "display_data"
    }
   ],
   "source": [
    "#####################################\n",
    "# 1D Training Data\n",
    "#####################################\n",
    "\n",
    "positive_samples = return_positive_samples(non_hiv_df, rna_embedder_1d, reduce = True)\n",
    "negative_samples = return_negative_samples(negative_pairs, swiss_id2seq, uniprot2rnaname, rnaname2tensor, reduce = True)\n",
    "\n",
    "# 2D Data\n",
    "data = [torch.cat([pos.cpu(),neg.cpu()]) for pos,neg in zip(*[positive_samples, negative_samples])]"
   ]
  },
  {
   "cell_type": "code",
   "execution_count": 37,
   "metadata": {},
   "outputs": [],
   "source": [
    "with open(\"../Data/TrainingData/FullEmbeddedTrainingData.pickle\",'wb') as infile:\n",
    "    pickle.dump(data, infile)"
   ]
  },
  {
   "cell_type": "code",
   "execution_count": 38,
   "metadata": {},
   "outputs": [
    {
     "data": {
      "application/vnd.jupyter.widget-view+json": {
       "model_id": "2f721b2cd38d44c18af0d84f59cfab91",
       "version_major": 2,
       "version_minor": 0
      },
      "text/plain": [
       "  0%|          | 0/4049 [00:00<?, ?it/s]"
      ]
     },
     "metadata": {},
     "output_type": "display_data"
    },
    {
     "data": {
      "application/vnd.jupyter.widget-view+json": {
       "model_id": "924db2929abc459cb1595e4c8a04a48b",
       "version_major": 2,
       "version_minor": 0
      },
      "text/plain": [
       "  0%|          | 0/4049 [00:00<?, ?it/s]"
      ]
     },
     "metadata": {},
     "output_type": "display_data"
    }
   ],
   "source": [
    "#####################################\n",
    "# 2D Training Data\n",
    "#####################################\n",
    "\n",
    "positive_samples_2dim = return_positive_samples(non_hiv_df, rna_embedder_2d, reduce = False)\n",
    "negative_samples_2dim = return_negative_samples(negative_pairs, swiss_id2seq, uniprot2rnaname, rnaname2tensor_2d, reduce = False)"
   ]
  },
  {
   "cell_type": "code",
   "execution_count": 42,
   "metadata": {},
   "outputs": [],
   "source": [
    "# Combining into a single data object takes up all ram\n",
    "with open(\"../Data/TrainingData/FullEmbeddedPositiveTrainingData2D.pickle\",'wb') as infile:\n",
    "    pickle.dump(positive_samples_2dim, infile)\n",
    "    \n",
    "with open(\"../Data/TrainingData/FullEmbeddedNegativeTrainingData2D.pickle\",'wb') as infile:\n",
    "    pickle.dump(negative_samples_2dim, infile)"
   ]
  },
  {
   "cell_type": "code",
   "execution_count": 9,
   "metadata": {},
   "outputs": [
    {
     "name": "stdout",
     "output_type": "stream",
     "text": [
      "Positive 2D data report:\n",
      "    ---\n",
      "    len : 3\n",
      "    X : torch.Size([12147, 112, 1024]),\n",
      "    X : torch.Size([12147, 1024, 100]),\n",
      "    y : torch.Size([12147])\n",
      "Negative 2D data report:\n",
      "    ---\n",
      "    len : 3\n",
      "    X : torch.Size([12147, 112, 1024]),\n",
      "    X : torch.Size([12147, 1024, 100]),\n",
      "    y : torch.Size([12147])\n"
     ]
    }
   ],
   "source": [
    "import pickle\n",
    "\n",
    "with open(\"../Data/TrainingData/FullEmbeddedPositiveTrainingData2D.pickle\",'rb') as infile:\n",
    "    x = pickle.load(infile)\n",
    "    print(f\"\"\"Positive 2D data report:\n",
    "    ---\n",
    "    len : {len(x)}\n",
    "    X : {x[0].shape},\n",
    "    X : {x[1].shape},\n",
    "    y : {x[-1].shape}\"\"\")\n",
    "    \n",
    "with open(\"../Data/TrainingData/FullEmbeddedNegativeTrainingData2D.pickle\",'rb') as infile:\n",
    "    x = pickle.load(infile)\n",
    "    print(f\"\"\"Negative 2D data report:\n",
    "    ---\n",
    "    len : {len(x)}\n",
    "    X : {x[0].shape},\n",
    "    X : {x[1].shape},\n",
    "    y : {x[-1].shape}\"\"\")"
   ]
  }
 ],
 "metadata": {
  "kernelspec": {
   "display_name": "Python 3",
   "language": "python",
   "name": "python3"
  },
  "language_info": {
   "codemirror_mode": {
    "name": "ipython",
    "version": 3
   },
   "file_extension": ".py",
   "mimetype": "text/x-python",
   "name": "python",
   "nbconvert_exporter": "python",
   "pygments_lexer": "ipython3",
   "version": "3.8.8"
  }
 },
 "nbformat": 4,
 "nbformat_minor": 4
}
