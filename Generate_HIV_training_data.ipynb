{
 "cells": [
  {
   "cell_type": "code",
   "execution_count": 2,
   "metadata": {},
   "outputs": [],
   "source": [
    "import sys\n",
    "sys.path.append(\"../../Chapter_3\")\n",
    "\n",
    "import pandas as pd\n",
    "from transformers import AutoTokenizer, AutoModel\n",
    "\n",
    "import torch\n",
    "from torch.utils.data import WeightedRandomSampler\n",
    "\n",
    "from tqdm.notebook import tqdm\n",
    "\n",
    "from sklearn.preprocessing import KBinsDiscretizer\n",
    "from sklearn.model_selection import train_test_split\n",
    "\n",
    "import fastai\n",
    "from fastai.basics import Learner, DataLoaders\n",
    "from fastai.vision.all import *\n",
    "from fastai.callback.all import *\n",
    "\n",
    "import seaborn as sbn\n",
    "import matplotlib.pyplot as plt\n",
    "import numpy as np\n",
    "\n",
    "from Utils.negative_sampling import IterableProteinEmbedding, magnitude\n",
    "from Utils.misc import filter_sequences_by_len_from_fasta\n",
    "from Utils.encoders import SkipGramEmbedder\n",
    "\n",
    "import warnings\n",
    "warnings.filterwarnings('ignore')"
   ]
  },
  {
   "cell_type": "markdown",
   "metadata": {},
   "source": [
    "# RNAInter HIV-1 data"
   ]
  },
  {
   "cell_type": "code",
   "execution_count": 3,
   "metadata": {},
   "outputs": [
    {
     "name": "stdout",
     "output_type": "stream",
     "text": [
      "RNAInter HIV repport\n",
      "---\n",
      "Total interactions: 14\n",
      "Unique proteins: 1\n",
      "Unique RNAs: 14\n",
      "HIV-1 proteins: {'tat'}\n",
      "HIV-1 RNAs: {'hiv1-miR-TAR-3p', 'hiv1-miR-TAR-5p'}\n"
     ]
    }
   ],
   "source": [
    "df = pd.read_csv(\"../../Chapter_3/Data/TrainingData/PositiveSamples/RNAInter_small_interactions_current.csv\")\n",
    "\n",
    "hiv = 'Human immunodeficiency virus 1'\n",
    "\n",
    "hiv_prot_interaction = df['Species'] == hiv\n",
    "hiv_rna_interaction = df['Also_species'] == hiv\n",
    "\n",
    "hiv_frame = df[hiv_prot_interaction | hiv_rna_interaction]\n",
    "hiv_frame\n",
    "\n",
    "print(f\"\"\"RNAInter HIV report\n",
    "---\n",
    "Total interactions: {len(hiv_frame)}\n",
    "Unique proteins: {len(set(hiv_frame['proteins'].unique()))}\n",
    "Unique RNAs: {len(set(hiv_frame['rnas'].unique()))}\n",
    "HIV-1 proteins: {set(hiv_frame[hiv_frame['Also_species'] == hiv]['Protein_name'])}\n",
    "HIV-1 RNAs: {set(hiv_frame[hiv_frame['Species'] == hiv]['RNA_Name'])}\"\"\")"
   ]
  },
  {
   "cell_type": "code",
   "execution_count": 6,
   "metadata": {},
   "outputs": [
    {
     "data": {
      "text/html": [
       "<div>\n",
       "<style scoped>\n",
       "    .dataframe tbody tr th:only-of-type {\n",
       "        vertical-align: middle;\n",
       "    }\n",
       "\n",
       "    .dataframe tbody tr th {\n",
       "        vertical-align: top;\n",
       "    }\n",
       "\n",
       "    .dataframe thead th {\n",
       "        text-align: right;\n",
       "    }\n",
       "</style>\n",
       "<table border=\"1\" class=\"dataframe\">\n",
       "  <thead>\n",
       "    <tr style=\"text-align: right;\">\n",
       "      <th></th>\n",
       "      <th>Unnamed: 0</th>\n",
       "      <th>Interaction_ID</th>\n",
       "      <th>RNA_Name</th>\n",
       "      <th>HGNC/Entrex/Ensembl_ID</th>\n",
       "      <th>RNA_type</th>\n",
       "      <th>Species</th>\n",
       "      <th>Protein_name</th>\n",
       "      <th>NCBI_GeneID</th>\n",
       "      <th>Protein_Type</th>\n",
       "      <th>Also_species</th>\n",
       "      <th>Confidence_score</th>\n",
       "      <th>proteins</th>\n",
       "      <th>UniprotID</th>\n",
       "      <th>rnas</th>\n",
       "    </tr>\n",
       "  </thead>\n",
       "  <tbody>\n",
       "    <tr>\n",
       "      <th>12145</th>\n",
       "      <td>8923212</td>\n",
       "      <td>RP33979063</td>\n",
       "      <td>rno-let-7b-5p</td>\n",
       "      <td>MIMAT0000775</td>\n",
       "      <td>miRNA</td>\n",
       "      <td>Rattus norvegicus</td>\n",
       "      <td>tat</td>\n",
       "      <td>155871.0</td>\n",
       "      <td>protein</td>\n",
       "      <td>Human immunodeficiency virus 1</td>\n",
       "      <td>0.9768</td>\n",
       "      <td>MEPVDPRLEPWKHPGSQPKTACTNCYCKKCCFHCQVCFITKALGISYGRKKRRQRRRAHQNSQTHQASLSKQPTSQPRGDPTGPKE</td>\n",
       "      <td>P04608</td>\n",
       "      <td>UGAGGUAGUAGGUUGUGUGGUU</td>\n",
       "    </tr>\n",
       "    <tr>\n",
       "      <th>12146</th>\n",
       "      <td>8923213</td>\n",
       "      <td>RP33979064</td>\n",
       "      <td>rno-let-7c-5p</td>\n",
       "      <td>MIMAT0000776</td>\n",
       "      <td>miRNA</td>\n",
       "      <td>Rattus norvegicus</td>\n",
       "      <td>tat</td>\n",
       "      <td>155871.0</td>\n",
       "      <td>protein</td>\n",
       "      <td>Human immunodeficiency virus 1</td>\n",
       "      <td>0.9768</td>\n",
       "      <td>MEPVDPRLEPWKHPGSQPKTACTNCYCKKCCFHCQVCFITKALGISYGRKKRRQRRRAHQNSQTHQASLSKQPTSQPRGDPTGPKE</td>\n",
       "      <td>P04608</td>\n",
       "      <td>UGAGGUAGUAGGUUGUAUGGUU</td>\n",
       "    </tr>\n",
       "    <tr>\n",
       "      <th>12147</th>\n",
       "      <td>8923214</td>\n",
       "      <td>RP33979065</td>\n",
       "      <td>rno-let-7e-5p</td>\n",
       "      <td>MIMAT0000777</td>\n",
       "      <td>miRNA</td>\n",
       "      <td>Rattus norvegicus</td>\n",
       "      <td>tat</td>\n",
       "      <td>155871.0</td>\n",
       "      <td>protein</td>\n",
       "      <td>Human immunodeficiency virus 1</td>\n",
       "      <td>0.9768</td>\n",
       "      <td>MEPVDPRLEPWKHPGSQPKTACTNCYCKKCCFHCQVCFITKALGISYGRKKRRQRRRAHQNSQTHQASLSKQPTSQPRGDPTGPKE</td>\n",
       "      <td>P04608</td>\n",
       "      <td>UGAGGUAGGAGGUUGUAUAGUU</td>\n",
       "    </tr>\n",
       "    <tr>\n",
       "      <th>12148</th>\n",
       "      <td>8923215</td>\n",
       "      <td>RP33979066</td>\n",
       "      <td>rno-let-7f-5p</td>\n",
       "      <td>MIMAT0000778</td>\n",
       "      <td>miRNA</td>\n",
       "      <td>Rattus norvegicus</td>\n",
       "      <td>tat</td>\n",
       "      <td>155871.0</td>\n",
       "      <td>protein</td>\n",
       "      <td>Human immunodeficiency virus 1</td>\n",
       "      <td>0.9768</td>\n",
       "      <td>MEPVDPRLEPWKHPGSQPKTACTNCYCKKCCFHCQVCFITKALGISYGRKKRRQRRRAHQNSQTHQASLSKQPTSQPRGDPTGPKE</td>\n",
       "      <td>P04608</td>\n",
       "      <td>UGAGGUAGUAGAUUGUAUAGUU</td>\n",
       "    </tr>\n",
       "    <tr>\n",
       "      <th>12149</th>\n",
       "      <td>8923216</td>\n",
       "      <td>RP33979067</td>\n",
       "      <td>rno-miR-25-3p</td>\n",
       "      <td>MIMAT0000795</td>\n",
       "      <td>miRNA</td>\n",
       "      <td>Rattus norvegicus</td>\n",
       "      <td>tat</td>\n",
       "      <td>155871.0</td>\n",
       "      <td>protein</td>\n",
       "      <td>Human immunodeficiency virus 1</td>\n",
       "      <td>0.9768</td>\n",
       "      <td>MEPVDPRLEPWKHPGSQPKTACTNCYCKKCCFHCQVCFITKALGISYGRKKRRQRRRAHQNSQTHQASLSKQPTSQPRGDPTGPKE</td>\n",
       "      <td>P04608</td>\n",
       "      <td>CAUUGCACUUGUCUCGGUCUGA</td>\n",
       "    </tr>\n",
       "    <tr>\n",
       "      <th>12150</th>\n",
       "      <td>8923217</td>\n",
       "      <td>RP33979068</td>\n",
       "      <td>rno-miR-99a-5p</td>\n",
       "      <td>MIMAT0000820</td>\n",
       "      <td>miRNA</td>\n",
       "      <td>Rattus norvegicus</td>\n",
       "      <td>tat</td>\n",
       "      <td>155871.0</td>\n",
       "      <td>protein</td>\n",
       "      <td>Human immunodeficiency virus 1</td>\n",
       "      <td>0.9768</td>\n",
       "      <td>MEPVDPRLEPWKHPGSQPKTACTNCYCKKCCFHCQVCFITKALGISYGRKKRRQRRRAHQNSQTHQASLSKQPTSQPRGDPTGPKE</td>\n",
       "      <td>P04608</td>\n",
       "      <td>AACCCGUAGAUCCGAUCUUGUG</td>\n",
       "    </tr>\n",
       "    <tr>\n",
       "      <th>12151</th>\n",
       "      <td>8923218</td>\n",
       "      <td>RP33979069</td>\n",
       "      <td>rno-miR-100-5p</td>\n",
       "      <td>MIMAT0000822</td>\n",
       "      <td>miRNA</td>\n",
       "      <td>Rattus norvegicus</td>\n",
       "      <td>tat</td>\n",
       "      <td>155871.0</td>\n",
       "      <td>protein</td>\n",
       "      <td>Human immunodeficiency virus 1</td>\n",
       "      <td>0.9768</td>\n",
       "      <td>MEPVDPRLEPWKHPGSQPKTACTNCYCKKCCFHCQVCFITKALGISYGRKKRRQRRRAHQNSQTHQASLSKQPTSQPRGDPTGPKE</td>\n",
       "      <td>P04608</td>\n",
       "      <td>AACCCGUAGAUCCGAACUUGUG</td>\n",
       "    </tr>\n",
       "    <tr>\n",
       "      <th>12152</th>\n",
       "      <td>8923219</td>\n",
       "      <td>RP33979070</td>\n",
       "      <td>rno-miR-128-3p</td>\n",
       "      <td>MIMAT0000834</td>\n",
       "      <td>miRNA</td>\n",
       "      <td>Rattus norvegicus</td>\n",
       "      <td>tat</td>\n",
       "      <td>155871.0</td>\n",
       "      <td>protein</td>\n",
       "      <td>Human immunodeficiency virus 1</td>\n",
       "      <td>0.9768</td>\n",
       "      <td>MEPVDPRLEPWKHPGSQPKTACTNCYCKKCCFHCQVCFITKALGISYGRKKRRQRRRAHQNSQTHQASLSKQPTSQPRGDPTGPKE</td>\n",
       "      <td>P04608</td>\n",
       "      <td>UCACAGUGAACCGGUCUCUUU</td>\n",
       "    </tr>\n",
       "    <tr>\n",
       "      <th>12153</th>\n",
       "      <td>8923220</td>\n",
       "      <td>RP33979072</td>\n",
       "      <td>rno-miR-214-3p</td>\n",
       "      <td>MIMAT0000885</td>\n",
       "      <td>miRNA</td>\n",
       "      <td>Rattus norvegicus</td>\n",
       "      <td>tat</td>\n",
       "      <td>155871.0</td>\n",
       "      <td>protein</td>\n",
       "      <td>Human immunodeficiency virus 1</td>\n",
       "      <td>0.9768</td>\n",
       "      <td>MEPVDPRLEPWKHPGSQPKTACTNCYCKKCCFHCQVCFITKALGISYGRKKRRQRRRAHQNSQTHQASLSKQPTSQPRGDPTGPKE</td>\n",
       "      <td>P04608</td>\n",
       "      <td>ACAGCAGGCACAGACAGGCAG</td>\n",
       "    </tr>\n",
       "    <tr>\n",
       "      <th>12154</th>\n",
       "      <td>8923221</td>\n",
       "      <td>RP33979073</td>\n",
       "      <td>rno-miR-298-5p</td>\n",
       "      <td>MIMAT0000900</td>\n",
       "      <td>miRNA</td>\n",
       "      <td>Rattus norvegicus</td>\n",
       "      <td>tat</td>\n",
       "      <td>155871.0</td>\n",
       "      <td>protein</td>\n",
       "      <td>Human immunodeficiency virus 1</td>\n",
       "      <td>0.9768</td>\n",
       "      <td>MEPVDPRLEPWKHPGSQPKTACTNCYCKKCCFHCQVCFITKALGISYGRKKRRQRRRAHQNSQTHQASLSKQPTSQPRGDPTGPKE</td>\n",
       "      <td>P04608</td>\n",
       "      <td>GGCAGAGGAGGGCUGUUCUUCCC</td>\n",
       "    </tr>\n",
       "    <tr>\n",
       "      <th>12155</th>\n",
       "      <td>8923222</td>\n",
       "      <td>RP33979074</td>\n",
       "      <td>rno-miR-320-3p</td>\n",
       "      <td>MIMAT0000903</td>\n",
       "      <td>miRNA</td>\n",
       "      <td>Rattus norvegicus</td>\n",
       "      <td>tat</td>\n",
       "      <td>155871.0</td>\n",
       "      <td>protein</td>\n",
       "      <td>Human immunodeficiency virus 1</td>\n",
       "      <td>0.9768</td>\n",
       "      <td>MEPVDPRLEPWKHPGSQPKTACTNCYCKKCCFHCQVCFITKALGISYGRKKRRQRRRAHQNSQTHQASLSKQPTSQPRGDPTGPKE</td>\n",
       "      <td>P04608</td>\n",
       "      <td>AAAAGCUGGGUUGAGAGGGCGA</td>\n",
       "    </tr>\n",
       "    <tr>\n",
       "      <th>12156</th>\n",
       "      <td>8923224</td>\n",
       "      <td>RP33979079</td>\n",
       "      <td>rno-miR-374-5p</td>\n",
       "      <td>MIMAT0003208</td>\n",
       "      <td>miRNA</td>\n",
       "      <td>Rattus norvegicus</td>\n",
       "      <td>tat</td>\n",
       "      <td>155871.0</td>\n",
       "      <td>protein</td>\n",
       "      <td>Human immunodeficiency virus 1</td>\n",
       "      <td>0.9768</td>\n",
       "      <td>MEPVDPRLEPWKHPGSQPKTACTNCYCKKCCFHCQVCFITKALGISYGRKKRRQRRRAHQNSQTHQASLSKQPTSQPRGDPTGPKE</td>\n",
       "      <td>P04608</td>\n",
       "      <td>AUAUAAUACAACCUGCUAAGUG</td>\n",
       "    </tr>\n",
       "    <tr>\n",
       "      <th>12159</th>\n",
       "      <td>8923245</td>\n",
       "      <td>RP33979111</td>\n",
       "      <td>hiv1-miR-TAR-5p</td>\n",
       "      <td>MIMAT0006016</td>\n",
       "      <td>miRNA</td>\n",
       "      <td>Human immunodeficiency virus 1</td>\n",
       "      <td>tat</td>\n",
       "      <td>155871.0</td>\n",
       "      <td>protein</td>\n",
       "      <td>Human immunodeficiency virus 1</td>\n",
       "      <td>0.9975</td>\n",
       "      <td>MEPVDPRLEPWKHPGSQPKTACTNCYCKKCCFHCQVCFITKALGISYGRKKRRQRRRAHQNSQTHQASLSKQPTSQPRGDPTGPKE</td>\n",
       "      <td>P04608</td>\n",
       "      <td>UCUCUCUGGUUAGACCAGAUCUGA</td>\n",
       "    </tr>\n",
       "    <tr>\n",
       "      <th>12160</th>\n",
       "      <td>8923246</td>\n",
       "      <td>RP33979112</td>\n",
       "      <td>hiv1-miR-TAR-3p</td>\n",
       "      <td>MIMAT0006017</td>\n",
       "      <td>miRNA</td>\n",
       "      <td>Human immunodeficiency virus 1</td>\n",
       "      <td>tat</td>\n",
       "      <td>155871.0</td>\n",
       "      <td>protein</td>\n",
       "      <td>Human immunodeficiency virus 1</td>\n",
       "      <td>0.9975</td>\n",
       "      <td>MEPVDPRLEPWKHPGSQPKTACTNCYCKKCCFHCQVCFITKALGISYGRKKRRQRRRAHQNSQTHQASLSKQPTSQPRGDPTGPKE</td>\n",
       "      <td>P04608</td>\n",
       "      <td>UCUCUGGCUAACUAGGGAACCCA</td>\n",
       "    </tr>\n",
       "  </tbody>\n",
       "</table>\n",
       "</div>"
      ],
      "text/plain": [
       "       Unnamed: 0 Interaction_ID         RNA_Name HGNC/Entrex/Ensembl_ID  \\\n",
       "12145     8923212     RP33979063    rno-let-7b-5p           MIMAT0000775   \n",
       "12146     8923213     RP33979064    rno-let-7c-5p           MIMAT0000776   \n",
       "12147     8923214     RP33979065    rno-let-7e-5p           MIMAT0000777   \n",
       "12148     8923215     RP33979066    rno-let-7f-5p           MIMAT0000778   \n",
       "12149     8923216     RP33979067    rno-miR-25-3p           MIMAT0000795   \n",
       "12150     8923217     RP33979068   rno-miR-99a-5p           MIMAT0000820   \n",
       "12151     8923218     RP33979069   rno-miR-100-5p           MIMAT0000822   \n",
       "12152     8923219     RP33979070   rno-miR-128-3p           MIMAT0000834   \n",
       "12153     8923220     RP33979072   rno-miR-214-3p           MIMAT0000885   \n",
       "12154     8923221     RP33979073   rno-miR-298-5p           MIMAT0000900   \n",
       "12155     8923222     RP33979074   rno-miR-320-3p           MIMAT0000903   \n",
       "12156     8923224     RP33979079   rno-miR-374-5p           MIMAT0003208   \n",
       "12159     8923245     RP33979111  hiv1-miR-TAR-5p           MIMAT0006016   \n",
       "12160     8923246     RP33979112  hiv1-miR-TAR-3p           MIMAT0006017   \n",
       "\n",
       "      RNA_type                         Species Protein_name  NCBI_GeneID  \\\n",
       "12145    miRNA               Rattus norvegicus          tat     155871.0   \n",
       "12146    miRNA               Rattus norvegicus          tat     155871.0   \n",
       "12147    miRNA               Rattus norvegicus          tat     155871.0   \n",
       "12148    miRNA               Rattus norvegicus          tat     155871.0   \n",
       "12149    miRNA               Rattus norvegicus          tat     155871.0   \n",
       "12150    miRNA               Rattus norvegicus          tat     155871.0   \n",
       "12151    miRNA               Rattus norvegicus          tat     155871.0   \n",
       "12152    miRNA               Rattus norvegicus          tat     155871.0   \n",
       "12153    miRNA               Rattus norvegicus          tat     155871.0   \n",
       "12154    miRNA               Rattus norvegicus          tat     155871.0   \n",
       "12155    miRNA               Rattus norvegicus          tat     155871.0   \n",
       "12156    miRNA               Rattus norvegicus          tat     155871.0   \n",
       "12159    miRNA  Human immunodeficiency virus 1          tat     155871.0   \n",
       "12160    miRNA  Human immunodeficiency virus 1          tat     155871.0   \n",
       "\n",
       "      Protein_Type                    Also_species  Confidence_score  \\\n",
       "12145      protein  Human immunodeficiency virus 1            0.9768   \n",
       "12146      protein  Human immunodeficiency virus 1            0.9768   \n",
       "12147      protein  Human immunodeficiency virus 1            0.9768   \n",
       "12148      protein  Human immunodeficiency virus 1            0.9768   \n",
       "12149      protein  Human immunodeficiency virus 1            0.9768   \n",
       "12150      protein  Human immunodeficiency virus 1            0.9768   \n",
       "12151      protein  Human immunodeficiency virus 1            0.9768   \n",
       "12152      protein  Human immunodeficiency virus 1            0.9768   \n",
       "12153      protein  Human immunodeficiency virus 1            0.9768   \n",
       "12154      protein  Human immunodeficiency virus 1            0.9768   \n",
       "12155      protein  Human immunodeficiency virus 1            0.9768   \n",
       "12156      protein  Human immunodeficiency virus 1            0.9768   \n",
       "12159      protein  Human immunodeficiency virus 1            0.9975   \n",
       "12160      protein  Human immunodeficiency virus 1            0.9975   \n",
       "\n",
       "                                                                                     proteins  \\\n",
       "12145  MEPVDPRLEPWKHPGSQPKTACTNCYCKKCCFHCQVCFITKALGISYGRKKRRQRRRAHQNSQTHQASLSKQPTSQPRGDPTGPKE   \n",
       "12146  MEPVDPRLEPWKHPGSQPKTACTNCYCKKCCFHCQVCFITKALGISYGRKKRRQRRRAHQNSQTHQASLSKQPTSQPRGDPTGPKE   \n",
       "12147  MEPVDPRLEPWKHPGSQPKTACTNCYCKKCCFHCQVCFITKALGISYGRKKRRQRRRAHQNSQTHQASLSKQPTSQPRGDPTGPKE   \n",
       "12148  MEPVDPRLEPWKHPGSQPKTACTNCYCKKCCFHCQVCFITKALGISYGRKKRRQRRRAHQNSQTHQASLSKQPTSQPRGDPTGPKE   \n",
       "12149  MEPVDPRLEPWKHPGSQPKTACTNCYCKKCCFHCQVCFITKALGISYGRKKRRQRRRAHQNSQTHQASLSKQPTSQPRGDPTGPKE   \n",
       "12150  MEPVDPRLEPWKHPGSQPKTACTNCYCKKCCFHCQVCFITKALGISYGRKKRRQRRRAHQNSQTHQASLSKQPTSQPRGDPTGPKE   \n",
       "12151  MEPVDPRLEPWKHPGSQPKTACTNCYCKKCCFHCQVCFITKALGISYGRKKRRQRRRAHQNSQTHQASLSKQPTSQPRGDPTGPKE   \n",
       "12152  MEPVDPRLEPWKHPGSQPKTACTNCYCKKCCFHCQVCFITKALGISYGRKKRRQRRRAHQNSQTHQASLSKQPTSQPRGDPTGPKE   \n",
       "12153  MEPVDPRLEPWKHPGSQPKTACTNCYCKKCCFHCQVCFITKALGISYGRKKRRQRRRAHQNSQTHQASLSKQPTSQPRGDPTGPKE   \n",
       "12154  MEPVDPRLEPWKHPGSQPKTACTNCYCKKCCFHCQVCFITKALGISYGRKKRRQRRRAHQNSQTHQASLSKQPTSQPRGDPTGPKE   \n",
       "12155  MEPVDPRLEPWKHPGSQPKTACTNCYCKKCCFHCQVCFITKALGISYGRKKRRQRRRAHQNSQTHQASLSKQPTSQPRGDPTGPKE   \n",
       "12156  MEPVDPRLEPWKHPGSQPKTACTNCYCKKCCFHCQVCFITKALGISYGRKKRRQRRRAHQNSQTHQASLSKQPTSQPRGDPTGPKE   \n",
       "12159  MEPVDPRLEPWKHPGSQPKTACTNCYCKKCCFHCQVCFITKALGISYGRKKRRQRRRAHQNSQTHQASLSKQPTSQPRGDPTGPKE   \n",
       "12160  MEPVDPRLEPWKHPGSQPKTACTNCYCKKCCFHCQVCFITKALGISYGRKKRRQRRRAHQNSQTHQASLSKQPTSQPRGDPTGPKE   \n",
       "\n",
       "      UniprotID                      rnas  \n",
       "12145    P04608    UGAGGUAGUAGGUUGUGUGGUU  \n",
       "12146    P04608    UGAGGUAGUAGGUUGUAUGGUU  \n",
       "12147    P04608    UGAGGUAGGAGGUUGUAUAGUU  \n",
       "12148    P04608    UGAGGUAGUAGAUUGUAUAGUU  \n",
       "12149    P04608    CAUUGCACUUGUCUCGGUCUGA  \n",
       "12150    P04608    AACCCGUAGAUCCGAUCUUGUG  \n",
       "12151    P04608    AACCCGUAGAUCCGAACUUGUG  \n",
       "12152    P04608     UCACAGUGAACCGGUCUCUUU  \n",
       "12153    P04608     ACAGCAGGCACAGACAGGCAG  \n",
       "12154    P04608   GGCAGAGGAGGGCUGUUCUUCCC  \n",
       "12155    P04608    AAAAGCUGGGUUGAGAGGGCGA  \n",
       "12156    P04608    AUAUAAUACAACCUGCUAAGUG  \n",
       "12159    P04608  UCUCUCUGGUUAGACCAGAUCUGA  \n",
       "12160    P04608   UCUCUGGCUAACUAGGGAACCCA  "
      ]
     },
     "execution_count": 6,
     "metadata": {},
     "output_type": "execute_result"
    }
   ],
   "source": [
    "hiv_frame"
   ]
  },
  {
   "cell_type": "code",
   "execution_count": 3,
   "metadata": {},
   "outputs": [
    {
     "data": {
      "text/plain": [
       "[('MEPVDPRLEPWKHPGSQPKTACTNCYCKKCCFHCQVCFITKALGISYGRKKRRQRRRAHQNSQTHQASLSKQPTSQPRGDPTGPKE',\n",
       "  'UGAGGUAGUAGGUUGUGUGGUU',\n",
       "  1),\n",
       " ('MEPVDPRLEPWKHPGSQPKTACTNCYCKKCCFHCQVCFITKALGISYGRKKRRQRRRAHQNSQTHQASLSKQPTSQPRGDPTGPKE',\n",
       "  'UGAGGUAGUAGGUUGUAUGGUU',\n",
       "  1),\n",
       " ('MEPVDPRLEPWKHPGSQPKTACTNCYCKKCCFHCQVCFITKALGISYGRKKRRQRRRAHQNSQTHQASLSKQPTSQPRGDPTGPKE',\n",
       "  'UGAGGUAGGAGGUUGUAUAGUU',\n",
       "  1),\n",
       " ('MEPVDPRLEPWKHPGSQPKTACTNCYCKKCCFHCQVCFITKALGISYGRKKRRQRRRAHQNSQTHQASLSKQPTSQPRGDPTGPKE',\n",
       "  'UGAGGUAGUAGAUUGUAUAGUU',\n",
       "  1),\n",
       " ('MEPVDPRLEPWKHPGSQPKTACTNCYCKKCCFHCQVCFITKALGISYGRKKRRQRRRAHQNSQTHQASLSKQPTSQPRGDPTGPKE',\n",
       "  'CAUUGCACUUGUCUCGGUCUGA',\n",
       "  1),\n",
       " ('MEPVDPRLEPWKHPGSQPKTACTNCYCKKCCFHCQVCFITKALGISYGRKKRRQRRRAHQNSQTHQASLSKQPTSQPRGDPTGPKE',\n",
       "  'AACCCGUAGAUCCGAUCUUGUG',\n",
       "  1),\n",
       " ('MEPVDPRLEPWKHPGSQPKTACTNCYCKKCCFHCQVCFITKALGISYGRKKRRQRRRAHQNSQTHQASLSKQPTSQPRGDPTGPKE',\n",
       "  'AACCCGUAGAUCCGAACUUGUG',\n",
       "  1),\n",
       " ('MEPVDPRLEPWKHPGSQPKTACTNCYCKKCCFHCQVCFITKALGISYGRKKRRQRRRAHQNSQTHQASLSKQPTSQPRGDPTGPKE',\n",
       "  'UCACAGUGAACCGGUCUCUUU',\n",
       "  1),\n",
       " ('MEPVDPRLEPWKHPGSQPKTACTNCYCKKCCFHCQVCFITKALGISYGRKKRRQRRRAHQNSQTHQASLSKQPTSQPRGDPTGPKE',\n",
       "  'ACAGCAGGCACAGACAGGCAG',\n",
       "  1),\n",
       " ('MEPVDPRLEPWKHPGSQPKTACTNCYCKKCCFHCQVCFITKALGISYGRKKRRQRRRAHQNSQTHQASLSKQPTSQPRGDPTGPKE',\n",
       "  'GGCAGAGGAGGGCUGUUCUUCCC',\n",
       "  1),\n",
       " ('MEPVDPRLEPWKHPGSQPKTACTNCYCKKCCFHCQVCFITKALGISYGRKKRRQRRRAHQNSQTHQASLSKQPTSQPRGDPTGPKE',\n",
       "  'AAAAGCUGGGUUGAGAGGGCGA',\n",
       "  1),\n",
       " ('MEPVDPRLEPWKHPGSQPKTACTNCYCKKCCFHCQVCFITKALGISYGRKKRRQRRRAHQNSQTHQASLSKQPTSQPRGDPTGPKE',\n",
       "  'AUAUAAUACAACCUGCUAAGUG',\n",
       "  1),\n",
       " ('MEPVDPRLEPWKHPGSQPKTACTNCYCKKCCFHCQVCFITKALGISYGRKKRRQRRRAHQNSQTHQASLSKQPTSQPRGDPTGPKE',\n",
       "  'UCUCUCUGGUUAGACCAGAUCUGA',\n",
       "  1),\n",
       " ('MEPVDPRLEPWKHPGSQPKTACTNCYCKKCCFHCQVCFITKALGISYGRKKRRQRRRAHQNSQTHQASLSKQPTSQPRGDPTGPKE',\n",
       "  'UCUCUGGCUAACUAGGGAACCCA',\n",
       "  1)]"
      ]
     },
     "execution_count": 3,
     "metadata": {},
     "output_type": "execute_result"
    }
   ],
   "source": [
    "hiv_frame_seq_interactions = list(zip(hiv_frame['proteins'], hiv_frame['rnas'],[1]*len(hiv_frame)))\n",
    "hiv_frame_seq_interactions"
   ]
  },
  {
   "cell_type": "markdown",
   "metadata": {},
   "source": [
    "# Klase Tat-miRNA data"
   ]
  },
  {
   "cell_type": "code",
   "execution_count": 7,
   "metadata": {},
   "outputs": [],
   "source": [
    "from Bio import SeqIO\n",
    "\n",
    "with open(\"../Data/Klase_Tat_interaction_miRNA_names.yaml\") as handle:\n",
    "    interactions = yaml.load(handle, Loader = yaml.FullLoader)\n",
    "    \n",
    "with open(\"/data/Chapter_3/Data/RawData/mirbase.fa\") as handle:\n",
    "    name2seq = {record.name : str(record.seq) for record in SeqIO.parse(handle, 'fasta') if 'hsa' in record.name}\n",
    "    \n",
    "with open(\"../Data/RawData/Klase_translated_tat_fragment.fasta\") as handle:\n",
    "    # Has spacer and flag tag, removing them for refinement data\n",
    "    klase_tat = str(next(SeqIO.parse(handle, 'fasta')).seq)[:101]"
   ]
  },
  {
   "cell_type": "code",
   "execution_count": 224,
   "metadata": {},
   "outputs": [
    {
     "data": {
      "text/plain": [
       "'M E P V D P R L E P W K H P G S Q P K T A C T N C Y C K K C C F H C Q V C F I T K A L G I S Y G R K K R R Q R R R P P Q G S Q T H Q V S L S K Q P T S Q S R G D P T G P K E S K K K V E R E T E T D P F D'"
      ]
     },
     "execution_count": 224,
     "metadata": {},
     "output_type": "execute_result"
    }
   ],
   "source": [
    "klase_tat"
   ]
  },
  {
   "cell_type": "code",
   "execution_count": 9,
   "metadata": {},
   "outputs": [],
   "source": [
    "import re\n",
    "\n",
    "def process_id(mirna_id : str, name2seq : dict) -> str:\n",
    "    \"\"\"\n",
    "    Jank conversions from listed miRNAs to their updated names.\n",
    "    \n",
    "    \"\"\"\n",
    "\n",
    "    # Just an odd ID typo\n",
    "    if mirna_id == \"hsa-miR-103-a\":\n",
    "        return \"hsa-mir-103a-1\"\n",
    "    \n",
    "    # http://www.mirbase.org/cgi-bin/mirna_entry.pl?acc=MI0001727\n",
    "    # hsa-miR-453 has been merged with  hsa-mir-323b and should be used instead\n",
    "    if mirna_id == 'hsa-miR-453':\n",
    "        return \"hsa-mir-323b\"\n",
    "    \n",
    "    # See whether ID just works as is\n",
    "    replaced_id = mirna_id.replace(\"miR\",\"mir\")\n",
    "    \n",
    "    try:\n",
    "        name2seq[mirna_id]\n",
    "        return mirna_id\n",
    "    except:\n",
    "        pass\n",
    "    \n",
    "    try:\n",
    "        name2seq[replaced_id]\n",
    "        return replaced_id\n",
    "    except:\n",
    "        pass\n",
    "    \n",
    "    # See whether adding \"a\" as end fixes ID\n",
    "    try:\n",
    "        formatted_id = f\"{mirna_id}a\"\n",
    "        name2seq[formatted_id]\n",
    "        return formatted_id\n",
    "    except:\n",
    "        pass\n",
    "    \n",
    "    try:\n",
    "        formatted_id = f\"{replaced_id}a\"\n",
    "        name2seq[formatted_id]\n",
    "        return formatted_id\n",
    "    except:\n",
    "        pass\n",
    "    \n",
    "    # See whether adding \"-1\" at end fixes ID\n",
    "    try:\n",
    "        formatted_id = f\"{mirna_id}-1\"\n",
    "        name2seq[formatted_id]\n",
    "        return formatted_id\n",
    "    except:\n",
    "        pass\n",
    "    \n",
    "    try:\n",
    "        formatted_id = f\"{replaced_id}-1\"\n",
    "        name2seq[formatted_id]\n",
    "        return formatted_id\n",
    "    except:\n",
    "        pass\n",
    "    \n",
    "    # See whether adding \"-1\" at end fixes ID\n",
    "    try:\n",
    "        formatted_id = f\"{mirna_id}-1\"\n",
    "        name2seq[formatted_id]\n",
    "        return formatted_id\n",
    "    except:\n",
    "        pass\n",
    "    \n",
    "    try:\n",
    "        formatted_id = f\"{replaced_id}-1\"\n",
    "        name2seq[formatted_id]\n",
    "        return formatted_id\n",
    "    except:\n",
    "        pass\n",
    "    \n",
    "    # See whether adding \"a-1\" fixes ID\n",
    "    try:\n",
    "        formatted_id = f\"{mirna_id}a-1\"\n",
    "        name2seq[formatted_id]\n",
    "        return formatted_id\n",
    "    except:\n",
    "        pass\n",
    "    \n",
    "    try:\n",
    "        formatted_id = f\"{replaced_id}a-1\"\n",
    "        name2seq[formatted_id]\n",
    "        return formatted_id\n",
    "    except:\n",
    "        pass\n",
    "\n",
    "    # See whether adding \"a\" to number fixes ID\n",
    "    try:\n",
    "        formatted_id = re.sub(r\"-(\\d+)-\", r\"-\\1a-\", mirna_id)\n",
    "        name2seq[formatted_id]\n",
    "        return formatted_id\n",
    "    except:\n",
    "        pass\n",
    "    \n",
    "    try:\n",
    "        formatted_id = re.sub(r\"-(\\d+)-\", r\"-\\1a-\", replaced_id)\n",
    "        name2seq[formatted_id]\n",
    "        return formatted_id\n",
    "    except:\n",
    "        pass\n",
    "    \n",
    "    # See whether adding \"-1\" to number fixes ID\n",
    "    try:\n",
    "        formatted_id = re.sub(r\"-(\\d+)-\", r\"-\\1-1-\", mirna_id)\n",
    "        name2seq[formatted_id]\n",
    "        return formatted_id\n",
    "    except:\n",
    "        pass\n",
    "    \n",
    "    try:\n",
    "        formatted_id = re.sub(r\"-(\\d+)-\", r\"-\\1-1-\", replaced_id)\n",
    "        name2seq[formatted_id]\n",
    "        return formatted_id\n",
    "    except:\n",
    "        pass\n",
    "    \n",
    "#         try:\n",
    "#             formatted_id = f\"hsa-{mirna_id}\"\n",
    "#             name2seq[formatted_id]\n",
    "#             return f\"hsa-{mirna_id}\"\n",
    "#         except:\n",
    "#             split_id = mirna_id.split('-')\n",
    "#             split_id[1] = f\"{split_id[1]}a\"\n",
    "#             formatted_id = f\"hsa-{'-'.join(split_id)}\"\n",
    "#             return formatted_id"
   ]
  },
  {
   "cell_type": "markdown",
   "metadata": {},
   "source": [
    "NOTE: Some listed miRNAs do not exist. These include:\n",
    "* hsa-miR-220{a,b,c} (http://www.mirbase.org/cgi-bin/mirna_entry.pl?acc=MI0000297)"
   ]
  },
  {
   "cell_type": "code",
   "execution_count": 12,
   "metadata": {
    "scrolled": true
   },
   "outputs": [
    {
     "name": "stdout",
     "output_type": "stream",
     "text": [
      "Original Interacting Tat-miRNA count: 68\n",
      "Filtered for existing and <= 100 Interacting Tat-miRNA count: 57\n"
     ]
    }
   ],
   "source": [
    "# Keep true if experimenting with ID conversions\n",
    "# If False, removes all None name : seq values. This is to remove miRNAs that no longer exist in miRBase. \n",
    "# If True, keeps all None values and displays which IDs need to be further modified to return sequence\n",
    "testing = False\n",
    "\n",
    "tat_interactions = {name : name2seq.get(process_id(name, name2seq), None) for name in interactions['Interaction']}\n",
    "\n",
    "print(f\"Original Interacting Tat-miRNA count: {len(tat_interactions)}\")\n",
    "\n",
    "\n",
    "if not testing:\n",
    "    # Filter out long miRNAs and non-existant miRNAs\n",
    "    tat_interactions = {key : value for key,value in tat_interactions.items() if value}\n",
    "    tat_interactions = {key : value for key,value in tat_interactions.items() if len(value) <= 100}\n",
    "\n",
    "print(f\"Filtered for existing and <= 100 Interacting Tat-miRNA count: {len(tat_interactions)}\")\n",
    "\n",
    "    \n",
    "if testing:\n",
    "    for key,value in tat_interactions.items():\n",
    "        if not value:\n",
    "            print(f\"{key}: {value}\")"
   ]
  },
  {
   "cell_type": "code",
   "execution_count": 13,
   "metadata": {},
   "outputs": [
    {
     "name": "stdout",
     "output_type": "stream",
     "text": [
      "Original Non-interacting miRNA count: 314\n",
      "Filtered for existing and <= 100 Non-interacting miRNA count: 284\n"
     ]
    }
   ],
   "source": [
    "# Keep true if experimenting with ID conversions\n",
    "# If False, removes all None name : seq values. This is to remove miRNAs that no longer exist in miRBase. \n",
    "# If True, keeps all None values and displays which IDs need to be further modified to return sequence\n",
    "testing = False\n",
    "\n",
    "tat_noninteractions = {name : name2seq.get(process_id(name, name2seq), None) for name in interactions['NonInteraction']}\n",
    "\n",
    "print(f\"Original Non-interacting miRNA count: {len(tat_noninteractions)}\")\n",
    "\n",
    "if not testing: \n",
    "    # Filter out long miRNAs and non-existant miRNAs\n",
    "    tat_noninteractions = {key : value for key,value in tat_noninteractions.items() if value}\n",
    "    tat_noninteractions = {key : value for key,value in tat_noninteractions.items() if len(value) <= 100}\n",
    "\n",
    "print(f\"Filtered for existing and <= 100 Non-interacting miRNA count: {len(tat_noninteractions)}\")\n",
    "    \n",
    "if testing:\n",
    "    for key,value in tat_noninteractions.items():\n",
    "        if not value:\n",
    "            print(f\"{key}: {value}\")"
   ]
  },
  {
   "cell_type": "code",
   "execution_count": 14,
   "metadata": {
    "scrolled": true
   },
   "outputs": [],
   "source": [
    "# Klase Tat is 111, but need to reduce truncate final residue to bring to 110\n",
    "# This is the only time that i need to do this and it's only a single residue\n",
    "# truncation. \n",
    "klase_seq_interactions = list(zip([klase_tat[:-1]]*len(tat_interactions), tat_interactions.values(), [1]*len(tat_interactions)))\n",
    "klase_seq_noninteractions = list(zip([klase_tat[:-1]]*len(tat_noninteractions), tat_noninteractions.values(), [0]*len(tat_noninteractions)))"
   ]
  },
  {
   "cell_type": "markdown",
   "metadata": {},
   "source": [
    "# Generate HIV-1 reduced negative samples\n",
    "\n",
    "All tats are wild type, so only need to incorperate miRNA data when sampling"
   ]
  },
  {
   "cell_type": "code",
   "execution_count": 24,
   "metadata": {},
   "outputs": [
    {
     "name": "stdout",
     "output_type": "stream",
     "text": [
      "There are: 71 positive interactions\n"
     ]
    }
   ],
   "source": [
    "hiv_interactions = hiv_frame_seq_interactions + klase_seq_interactions\n",
    "positive_interaction_count = len(hiv_interactions)\n",
    "\n",
    "print(f\"There are: {positive_interaction_count} positive interactions\")"
   ]
  },
  {
   "cell_type": "code",
   "execution_count": 105,
   "metadata": {},
   "outputs": [
    {
     "data": {
      "text/plain": [
       "280"
      ]
     },
     "execution_count": 105,
     "metadata": {},
     "output_type": "execute_result"
    }
   ],
   "source": [
    "_, rnas, _ = zip(*klase_seq_noninteractions)\n",
    "unique_mirnas = list(set(rnas))\n",
    "len(unique_mirnas)"
   ]
  },
  {
   "cell_type": "code",
   "execution_count": 106,
   "metadata": {},
   "outputs": [
    {
     "data": {
      "text/plain": [
       "tensor([[-0.0819, -0.4581,  0.0760,  ...,  0.2146, -0.0318,  0.1334],\n",
       "        [-0.2269, -0.4215, -0.3855,  ...,  0.0557,  0.2574, -0.2805],\n",
       "        [-0.0234, -0.2672,  0.0008,  ..., -0.0528, -0.3317,  0.1246],\n",
       "        ...,\n",
       "        [-0.1364, -0.1354, -0.0173,  ...,  0.1199, -0.0333, -0.1199],\n",
       "        [ 0.0610, -0.1866,  0.0520,  ..., -0.2541, -0.0556, -0.2120],\n",
       "        [-0.0716, -0.3849, -0.0318,  ...,  0.1413,  0.0740,  0.3057]])"
      ]
     },
     "execution_count": 106,
     "metadata": {},
     "output_type": "execute_result"
    }
   ],
   "source": [
    "rna_embedder = SkipGramEmbedder(\"/data/Chapter_3/SeqEmbedders/GensimWord2Vec/RNA2Vec_1024_hidden.model\", reduce = True)\n",
    "encoded_mirnas = rna_embedder(unique_mirnas)\n",
    "encoded_mirnas"
   ]
  },
  {
   "cell_type": "code",
   "execution_count": 225,
   "metadata": {},
   "outputs": [
    {
     "data": {
      "text/plain": [
       "71"
      ]
     },
     "execution_count": 225,
     "metadata": {},
     "output_type": "execute_result"
    }
   ],
   "source": [
    "len(encoded_mirnas)"
   ]
  },
  {
   "cell_type": "code",
   "execution_count": 111,
   "metadata": {},
   "outputs": [],
   "source": [
    "from hdbscan import HDBSCAN\n",
    "\n",
    "# Playing around until I get roughly 71 clusters\n",
    "# 5 gets the best trade-off between cluster count and unique RNAs\n",
    "clusterer = hdbscan.HDBSCAN(min_cluster_size=2)\n",
    "clusters = clusterer.fit_predict(encoded_mirnas)\n",
    "\n",
    "#np.save(SWISS_CLUSTERS_PATH, clusters)"
   ]
  },
  {
   "cell_type": "code",
   "execution_count": 113,
   "metadata": {},
   "outputs": [
    {
     "name": "stdout",
     "output_type": "stream",
     "text": [
      "TOTAL SAMPLES: 71\n",
      "Total clusters: 54\n",
      "Samples per cluster: 2\n",
      "Anticiapted smaple count: 108\n"
     ]
    }
   ],
   "source": [
    "from math import ceil\n",
    "\n",
    "TOTAL_REDUCED_SAMPLES = positive_interaction_count\n",
    "\n",
    "cluster_count      = len(set(clusters))\n",
    "sample_per_cluster = ceil(TOTAL_REDUCED_SAMPLES / cluster_count)\n",
    "anticiapted_total_samples = cluster_count * sample_per_cluster\n",
    "\n",
    "print(f\"TOTAL SAMPLES: {TOTAL_REDUCED_SAMPLES}\")\n",
    "print(f\"Total clusters: {cluster_count}\")\n",
    "print(f\"Samples per cluster: {sample_per_cluster}\")\n",
    "print(f\"Anticiapted smaple count: {anticiapted_total_samples}\")"
   ]
  },
  {
   "cell_type": "code",
   "execution_count": 115,
   "metadata": {
    "scrolled": true
   },
   "outputs": [
    {
     "name": "stdout",
     "output_type": "stream",
     "text": [
      "(-1, 135)\n",
      "(33, 9)\n",
      "(36, 8)\n",
      "(39, 7)\n",
      "(11, 5)\n",
      "(24, 5)\n",
      "(51, 4)\n",
      "(40, 4)\n",
      "(49, 3)\n",
      "(42, 3)\n",
      "(18, 3)\n",
      "(41, 3)\n",
      "(44, 3)\n",
      "(1, 3)\n",
      "(5, 3)\n",
      "(34, 3)\n",
      "(2, 3)\n",
      "(30, 3)\n",
      "(7, 3)\n",
      "(28, 2)\n",
      "(27, 2)\n",
      "(50, 2)\n",
      "(19, 2)\n",
      "(4, 2)\n",
      "(43, 2)\n",
      "(38, 2)\n",
      "(48, 2)\n",
      "(25, 2)\n",
      "(32, 2)\n",
      "(12, 2)\n",
      "(37, 2)\n",
      "(29, 2)\n",
      "(45, 2)\n",
      "(22, 2)\n",
      "(47, 2)\n",
      "(16, 2)\n",
      "(21, 2)\n",
      "(52, 2)\n",
      "(46, 2)\n",
      "(9, 2)\n",
      "(0, 2)\n",
      "(8, 2)\n",
      "(35, 2)\n",
      "(14, 2)\n",
      "(13, 2)\n",
      "(26, 2)\n",
      "(3, 2)\n",
      "(17, 2)\n",
      "(20, 2)\n",
      "(23, 2)\n",
      "(6, 2)\n",
      "(31, 2)\n",
      "(10, 2)\n",
      "(15, 2)\n"
     ]
    }
   ],
   "source": [
    "for i in pd.Series(clusters).value_counts().iteritems():\n",
    "    print(i)"
   ]
  },
  {
   "cell_type": "code",
   "execution_count": 116,
   "metadata": {},
   "outputs": [],
   "source": [
    "import numpy as np\n",
    "def isolate_data_by_cluster(data : np.array, clusters : np.array, cluster_id : int) -> np.array:\n",
    "    return data[clusters == cluster_id,:]"
   ]
  },
  {
   "cell_type": "code",
   "execution_count": 117,
   "metadata": {},
   "outputs": [],
   "source": [
    "def isolate_data_by_clusters(data : np.array, clusters : np.array) -> list:\n",
    "    return [isolate_data_by_cluster(data, clusters, cluster) for cluster in set(clusters)]"
   ]
  },
  {
   "cell_type": "code",
   "execution_count": 129,
   "metadata": {},
   "outputs": [
    {
     "data": {
      "text/plain": [
       "torch.Size([71, 1024])"
      ]
     },
     "execution_count": 129,
     "metadata": {},
     "output_type": "execute_result"
    }
   ],
   "source": [
    "encoded_clusters = isolate_data_by_clusters(encoded_mirnas, clusters)\n",
    "encoded_data = [cluster[:sample_per_cluster] for cluster in encoded_clusters]\n",
    "reduced_encoded_mirnas = torch.cat(encoded_data)[:TOTAL_REDUCED_SAMPLES]\n",
    "reduced_encoded_mirnas.shape"
   ]
  },
  {
   "cell_type": "code",
   "execution_count": 132,
   "metadata": {},
   "outputs": [],
   "source": [
    "klase_tat = \" \".join(klase_tat)"
   ]
  },
  {
   "cell_type": "code",
   "execution_count": 133,
   "metadata": {},
   "outputs": [
    {
     "data": {
      "application/vnd.jupyter.widget-view+json": {
       "model_id": "a287585f06204f18b582d822ec59a810",
       "version_major": 2,
       "version_minor": 0
      },
      "text/plain": [
       "  0%|          | 0/1 [00:00<?, ?it/s]"
      ]
     },
     "metadata": {},
     "output_type": "display_data"
    }
   ],
   "source": [
    "model     = AutoModel.from_pretrained(\"Rostlab/prot_bert_bfd\")\n",
    "tokenizer = AutoTokenizer.from_pretrained(\"Rostlab/prot_bert_bfd\", do_lower_case = False)\n",
    "\n",
    "tat_embedder = IterableProteinEmbedding([klase_tat], tokenizer, model, chunksize = 3, max_len = 110, cuda = True)\n",
    "\n",
    "with torch.no_grad():\n",
    "    encoded_klase_tat = torch.cat(list(tat_embedder))"
   ]
  },
  {
   "cell_type": "code",
   "execution_count": 142,
   "metadata": {},
   "outputs": [],
   "source": [
    "encoded_tats = torch.tile(encoded_klase_tat,(TOTAL_REDUCED_SAMPLES,1))"
   ]
  },
  {
   "cell_type": "code",
   "execution_count": 226,
   "metadata": {},
   "outputs": [
    {
     "data": {
      "text/plain": [
       "[tensor([[-0.0354,  0.0086, -0.0037,  ..., -0.0222,  0.0086, -0.0599],\n",
       "         [-0.0354,  0.0086, -0.0037,  ..., -0.0222,  0.0086, -0.0599],\n",
       "         [-0.0354,  0.0086, -0.0037,  ..., -0.0222,  0.0086, -0.0599],\n",
       "         ...,\n",
       "         [-0.0354,  0.0086, -0.0037,  ..., -0.0222,  0.0086, -0.0599],\n",
       "         [-0.0354,  0.0086, -0.0037,  ..., -0.0222,  0.0086, -0.0599],\n",
       "         [-0.0354,  0.0086, -0.0037,  ..., -0.0222,  0.0086, -0.0599]]),\n",
       " tensor([[-0.0798, -0.0949, -0.0973,  ..., -0.1659,  0.0539, -0.3381],\n",
       "         [ 0.6910,  0.2231,  1.8914,  ..., -1.2562,  0.1066, -0.2320],\n",
       "         [-0.1549, -0.1900, -0.3548,  ...,  0.1658,  0.1127, -0.0458],\n",
       "         ...,\n",
       "         [-0.2056, -0.6489,  0.3222,  ...,  0.7906,  0.4120,  0.8115],\n",
       "         [ 0.2071, -0.2519,  0.5972,  ..., -0.2751, -0.0802, -0.1256],\n",
       "         [-0.0286, -0.3779,  0.4139,  ..., -0.0795,  0.3838,  0.0880]]),\n",
       " tensor([0, 0, 0, 0, 0, 0, 0, 0, 0, 0, 0, 0, 0, 0, 0, 0, 0, 0, 0, 0, 0, 0, 0, 0,\n",
       "         0, 0, 0, 0, 0, 0, 0, 0, 0, 0, 0, 0, 0, 0, 0, 0, 0, 0, 0, 0, 0, 0, 0, 0,\n",
       "         0, 0, 0, 0, 0, 0, 0, 0, 0, 0, 0, 0, 0, 0, 0, 0, 0, 0, 0, 0, 0, 0, 0])]"
      ]
     },
     "execution_count": 226,
     "metadata": {},
     "output_type": "execute_result"
    }
   ],
   "source": [
    "negative_tat_interactions = [encoded_tats.cpu(), encoded_mirnas, torch.tensor([0]*TOTAL_REDUCED_SAMPLES)]\n",
    "negative_tat_interactions"
   ]
  },
  {
   "cell_type": "code",
   "execution_count": 227,
   "metadata": {},
   "outputs": [
    {
     "data": {
      "text/plain": [
       "[71, 71, 71]"
      ]
     },
     "execution_count": 227,
     "metadata": {},
     "output_type": "execute_result"
    }
   ],
   "source": [
    "[len(i) for i in negative_tat_interactions]"
   ]
  },
  {
   "cell_type": "markdown",
   "metadata": {},
   "source": [
    "# Generare HIV-1 positive data"
   ]
  },
  {
   "cell_type": "code",
   "execution_count": 188,
   "metadata": {},
   "outputs": [],
   "source": [
    "######################################################################\n",
    "# NOTE: 86 exclusively interacts with samples, please deal with later\n",
    "######################################################################\n",
    "\n",
    "interacting_proteins, interacting_mirnas, _ = zip(*klase_seq_interactions)\n",
    "\n",
    "interacting_proteins += tuple(hiv_frame['proteins'])\n",
    "interacting_mirnas += tuple(hiv_frame['rnas'])"
   ]
  },
  {
   "cell_type": "code",
   "execution_count": 189,
   "metadata": {},
   "outputs": [],
   "source": [
    "proteins = [\" \".join(list(seq)) for seq in interacting_proteins]"
   ]
  },
  {
   "cell_type": "code",
   "execution_count": 190,
   "metadata": {},
   "outputs": [
    {
     "data": {
      "application/vnd.jupyter.widget-view+json": {
       "model_id": "c253f78c5376469fa034048a8ce651dc",
       "version_major": 2,
       "version_minor": 0
      },
      "text/plain": [
       "  0%|          | 0/24 [00:00<?, ?it/s]"
      ]
     },
     "metadata": {},
     "output_type": "display_data"
    }
   ],
   "source": [
    "model     = AutoModel.from_pretrained(\"Rostlab/prot_bert_bfd\")\n",
    "tokenizer = AutoTokenizer.from_pretrained(\"Rostlab/prot_bert_bfd\", do_lower_case = False)\n",
    "\n",
    "tat_embedder = IterableProteinEmbedding(proteins, tokenizer, model, chunksize = 3, max_len = 110, cuda = True)\n",
    "\n",
    "with torch.no_grad():\n",
    "    encoded_tat = torch.cat(list(tat_embedder))"
   ]
  },
  {
   "cell_type": "code",
   "execution_count": 194,
   "metadata": {},
   "outputs": [
    {
     "data": {
      "text/plain": [
       "tensor([[-0.0798, -0.0949, -0.0973,  ..., -0.1659,  0.0539, -0.3381],\n",
       "        [ 0.6910,  0.2231,  1.8914,  ..., -1.2562,  0.1066, -0.2320],\n",
       "        [-0.1549, -0.1900, -0.3548,  ...,  0.1658,  0.1127, -0.0458],\n",
       "        ...,\n",
       "        [-0.2056, -0.6489,  0.3222,  ...,  0.7906,  0.4120,  0.8115],\n",
       "        [ 0.2071, -0.2519,  0.5972,  ..., -0.2751, -0.0802, -0.1256],\n",
       "        [-0.0286, -0.3779,  0.4139,  ..., -0.0795,  0.3838,  0.0880]])"
      ]
     },
     "execution_count": 194,
     "metadata": {},
     "output_type": "execute_result"
    }
   ],
   "source": [
    "rna_embedder = SkipGramEmbedder(\"/data/Chapter_3/SeqEmbedders/GensimWord2Vec/RNA2Vec_1024_hidden.model\", reduce = True)\n",
    "encoded_mirnas = rna_embedder(interacting_mirnas)\n",
    "encoded_mirnas"
   ]
  },
  {
   "cell_type": "code",
   "execution_count": 197,
   "metadata": {},
   "outputs": [
    {
     "data": {
      "text/plain": [
       "tensor([[-0.0798, -0.0949, -0.0973,  ..., -0.1659,  0.0539, -0.3381],\n",
       "        [ 0.6910,  0.2231,  1.8914,  ..., -1.2562,  0.1066, -0.2320],\n",
       "        [-0.1549, -0.1900, -0.3548,  ...,  0.1658,  0.1127, -0.0458],\n",
       "        ...,\n",
       "        [-0.2056, -0.6489,  0.3222,  ...,  0.7906,  0.4120,  0.8115],\n",
       "        [ 0.2071, -0.2519,  0.5972,  ..., -0.2751, -0.0802, -0.1256],\n",
       "        [-0.0286, -0.3779,  0.4139,  ..., -0.0795,  0.3838,  0.0880]])"
      ]
     },
     "execution_count": 197,
     "metadata": {},
     "output_type": "execute_result"
    }
   ],
   "source": [
    "encoded_mirnas"
   ]
  },
  {
   "cell_type": "code",
   "execution_count": 198,
   "metadata": {},
   "outputs": [
    {
     "data": {
      "text/plain": [
       "tensor([1, 1, 1, 1, 1, 1, 1, 1, 1, 1, 1, 1, 1, 1, 1, 1, 1, 1, 1, 1, 1, 1, 1, 1,\n",
       "        1, 1, 1, 1, 1, 1, 1, 1, 1, 1, 1, 1, 1, 1, 1, 1, 1, 1, 1, 1, 1, 1, 1, 1,\n",
       "        1, 1, 1, 1, 1, 1, 1, 1, 1, 1, 1, 1, 1, 1, 1, 1, 1, 1, 1, 1, 1, 1, 1])"
      ]
     },
     "execution_count": 198,
     "metadata": {},
     "output_type": "execute_result"
    }
   ],
   "source": [
    "interacts = torch.tensor([1]*len(encoded_mirnas))\n",
    "interacts"
   ]
  },
  {
   "cell_type": "code",
   "execution_count": 199,
   "metadata": {},
   "outputs": [
    {
     "data": {
      "text/plain": [
       "[tensor([[-0.0355,  0.0101, -0.0067,  ..., -0.0212,  0.0080, -0.0615],\n",
       "         [-0.0355,  0.0101, -0.0067,  ..., -0.0212,  0.0080, -0.0615],\n",
       "         [-0.0355,  0.0101, -0.0067,  ..., -0.0212,  0.0080, -0.0615],\n",
       "         ...,\n",
       "         [-0.0318,  0.0129, -0.0052,  ..., -0.0309,  0.0040, -0.0528],\n",
       "         [-0.0318,  0.0129, -0.0052,  ..., -0.0309,  0.0040, -0.0528],\n",
       "         [-0.0318,  0.0129, -0.0052,  ..., -0.0309,  0.0040, -0.0528]]),\n",
       " tensor([[-0.0798, -0.0949, -0.0973,  ..., -0.1659,  0.0539, -0.3381],\n",
       "         [ 0.6910,  0.2231,  1.8914,  ..., -1.2562,  0.1066, -0.2320],\n",
       "         [-0.1549, -0.1900, -0.3548,  ...,  0.1658,  0.1127, -0.0458],\n",
       "         ...,\n",
       "         [-0.2056, -0.6489,  0.3222,  ...,  0.7906,  0.4120,  0.8115],\n",
       "         [ 0.2071, -0.2519,  0.5972,  ..., -0.2751, -0.0802, -0.1256],\n",
       "         [-0.0286, -0.3779,  0.4139,  ..., -0.0795,  0.3838,  0.0880]]),\n",
       " tensor([1, 1, 1, 1, 1, 1, 1, 1, 1, 1, 1, 1, 1, 1, 1, 1, 1, 1, 1, 1, 1, 1, 1, 1,\n",
       "         1, 1, 1, 1, 1, 1, 1, 1, 1, 1, 1, 1, 1, 1, 1, 1, 1, 1, 1, 1, 1, 1, 1, 1,\n",
       "         1, 1, 1, 1, 1, 1, 1, 1, 1, 1, 1, 1, 1, 1, 1, 1, 1, 1, 1, 1, 1, 1, 1])]"
      ]
     },
     "execution_count": 199,
     "metadata": {},
     "output_type": "execute_result"
    }
   ],
   "source": [
    "encoded_interaction_data = [encoded_tat.cpu(), encoded_mirnas, interacts]\n",
    "encoded_interaction_data"
   ]
  },
  {
   "cell_type": "code",
   "execution_count": 228,
   "metadata": {},
   "outputs": [
    {
     "data": {
      "text/plain": [
       "[71, 71, 71]"
      ]
     },
     "execution_count": 228,
     "metadata": {},
     "output_type": "execute_result"
    }
   ],
   "source": [
    "[len(i) for i in encoded_interaction_data]"
   ]
  },
  {
   "cell_type": "markdown",
   "metadata": {},
   "source": [
    "# Generate HIV-1 training data "
   ]
  },
  {
   "cell_type": "code",
   "execution_count": 232,
   "metadata": {},
   "outputs": [
    {
     "name": "stdout",
     "output_type": "stream",
     "text": [
      "Total HIV-1 training data: 142\n",
      "Total positive samples: 71\n",
      "Total negative samples: 71\n"
     ]
    }
   ],
   "source": [
    "# negative_tat_interactions,negative_tat_interactions]\n",
    "encoded_hiv_training_data = [torch.cat([encoded_interaction_data[i], negative_tat_interactions[i]]) for i in range(3)]\n",
    "\n",
    "print(f\"\"\"Total HIV-1 training data: {len(encoded_hiv_training_data[0])}\n",
    "Total positive samples: {sum(encoded_hiv_training_data[-1])}\n",
    "Total negative samples: {len(encoded_hiv_training_data[-1]) - sum(encoded_hiv_training_data[-1])}\"\"\")"
   ]
  },
  {
   "cell_type": "code",
   "execution_count": 233,
   "metadata": {},
   "outputs": [
    {
     "data": {
      "text/plain": [
       "[142, 142, 142]"
      ]
     },
     "execution_count": 233,
     "metadata": {},
     "output_type": "execute_result"
    }
   ],
   "source": [
    "#encoded_hiv_training_data\n",
    "[len(i) for i in encoded_hiv_training_data]"
   ]
  },
  {
   "cell_type": "code",
   "execution_count": 234,
   "metadata": {},
   "outputs": [],
   "source": [
    "# No 2D version for HIV yet\n",
    "with open(\"../Data/TrainingData/FullEmbeddedHIVTrainingData.pickle\",'wb') as infile:\n",
    "    pickle.dump(encoded_hiv_training_data, infile)"
   ]
  },
  {
   "cell_type": "code",
   "execution_count": null,
   "metadata": {},
   "outputs": [],
   "source": []
  }
 ],
 "metadata": {
  "kernelspec": {
   "display_name": "Python 3",
   "language": "python",
   "name": "python3"
  },
  "language_info": {
   "codemirror_mode": {
    "name": "ipython",
    "version": 3
   },
   "file_extension": ".py",
   "mimetype": "text/x-python",
   "name": "python",
   "nbconvert_exporter": "python",
   "pygments_lexer": "ipython3",
   "version": "3.8.8"
  }
 },
 "nbformat": 4,
 "nbformat_minor": 4
}
